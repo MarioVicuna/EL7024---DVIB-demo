{
 "cells": [
  {
   "cell_type": "markdown",
   "metadata": {
    "id": "YYKhWmEC5r3I"
   },
   "source": [
    "# Solución Tarea Miniproyecto: *Representation Learning*\n",
    "\n",
    "### EL7024 - Teoría de la Información: Fundamentos y Aplicaciones \n",
    "### Information and Decision Systems Group"
   ]
  },
  {
   "cell_type": "markdown",
   "metadata": {
    "id": "ZVszX8LN58ex"
   },
   "source": [
    "Nombre: Mario Vicuña Álvarez"
   ]
  },
  {
   "cell_type": "markdown",
   "metadata": {
    "id": "UPSiLasL5-Ro"
   },
   "source": [
    "## Preguntas Teóricas:"
   ]
  },
  {
   "cell_type": "markdown",
   "metadata": {
    "id": "SPlwxD2k5_0X"
   },
   "source": [
    "### P1) Inferencia Variacional"
   ]
  },
  {
   "cell_type": "markdown",
   "metadata": {
    "id": "t5mX1PRFCIbM"
   },
   "source": [
    "#### P1a)"
   ]
  },
  {
   "cell_type": "markdown",
   "metadata": {
    "id": "4SMAzN7D6BQP"
   },
   "source": [
    "A partir del funcional objetivo de Inferencia Variacional $KL(q(\\mathbf{Z})||p(\\mathbf{Z}|x))$ encuentre una cota inferior para el logaritmo de la **evidencia** $\\log{p(x)}$ y muestre que esta se puede escribir como:\n",
    "\n",
    "\\begin{equation}\n",
    "  \\begin{split}\n",
    "    ELBO(q) &= \\mathbb{E}_{\\mathbf{Z} \\sim q(\\mathbf{z})}\\{\\log{p(x,\\mathbf{Z})}\\} - \\mathbb{E}_{\\mathbf{Z} \\sim q(\\mathbf{z})}\\{\\log{q(\\mathbf{Z})}\\} \\\\\n",
    "&= \\mathbb{E}_{\\mathbf{Z} \\sim q(\\mathbf{z})}\\{\\log{p(x|\\mathbf{Z})}\\} - KL(q(\\mathbf{Z})||p(\\mathbf{Z}))\n",
    "  \\end{split}\n",
    "\\end{equation}"
   ]
  },
  {
   "cell_type": "markdown",
   "metadata": {
    "id": "NSylmCtHBkm1"
   },
   "source": [
    "##### Respuesta:"
   ]
  },
  {
   "cell_type": "markdown",
   "metadata": {
    "id": "HwB6fok96R_5"
   },
   "source": [
    "Podemos partir por aplicar la definición de divergencia al funcional objetivo y elaborar desde ahí:\n",
    "\n",
    "\\begin{equation}\n",
    "  \\begin{split}\n",
    "    KL(q(\\mathbf{Z})||p(\\mathbf{Z}|x)) &= \\int_{\\mathcal{Z}} q(\\mathbf{z}) \\log{\\left( \\frac{q(\\mathbf{z})}{p(\\mathbf{z}|x)} \\right)} d\\mathbf{z} \\\\\n",
    "    &= \\int_{\\mathcal{Z}} q(\\mathbf{z}) \\log{\\left( \\frac{q(\\mathbf{z}) p(x)}{p(x,\\mathbf{z})} \\right)} d\\mathbf{z} \\\\\n",
    "    &= \\int_{\\mathcal{Z}} q(\\mathbf{z}) \\log{q(\\mathbf{z})} d\\mathbf{z} + \\int_{\\mathcal{Z}} q(\\mathbf{z}) \\log{p(x)} d\\mathbf{z} - \\int_{\\mathcal{Z}} q(\\mathbf{z}) \\log{p(x,\\mathbf{z})} d\\mathbf{z} \\\\\n",
    "    &= \\mathbb{E}_{\\mathbf{Z} \\sim q(\\mathbf{z})} \\left\\{ \\log{q(\\mathbf{Z})} \\right\\} + \\log{p(x)} - \\mathbb{E}_{\\mathbf{Z} \\sim q(\\mathbf{z})} \\left\\{ p(x,\\mathbf{z}) \\right\\}\\\\\n",
    "  \\end{split}\n",
    "\\end{equation}\n",
    "\n",
    "Por propiedad de la divergencia tenemos entonces que\n",
    "\n",
    "\\begin{equation}\n",
    "  \\begin{split}\n",
    "    &KL(q(\\mathbf{Z})||p(\\mathbf{Z}|x)) \\geq 0 \\\\\n",
    "    ⇒& \\log{p(x)} \\geq \\mathbb{E}_{\\mathbf{Z} \\sim q(\\mathbf{z})} \\left\\{ p(x,\\mathbf{z}) \\right\\} - \\mathbb{E}_{\\mathbf{Z} \\sim q(\\mathbf{z})} \\left\\{ \\log{q(\\mathbf{Z})} \\right\\} \\equiv ELBO(q)\n",
    "  \\end{split}\n",
    "\\end{equation}\n",
    "\n",
    "A su vez:\n",
    "\n",
    "\\begin{equation}\n",
    "  \\begin{split}\n",
    "    ELBO(q) &= \\mathbb{E}_{\\mathbf{Z} \\sim q(\\mathbf{z})} \\left\\{ p(x,\\mathbf{Z}) \\right\\} - \\mathbb{E}_{\\mathbf{Z} \\sim q(\\mathbf{z})} \\left\\{ \\log{q(\\mathbf{Z})} \\right\\} \\\\\n",
    "    &= \\mathbb{E}_{\\mathbf{Z} \\sim q(\\mathbf{z})} \\left\\{ \\log{\\left( p(x|\\mathbf{Z})p(\\mathbf{Z}) \\right)} \\right\\} - \\mathbb{E}_{\\mathbf{Z} \\sim q(\\mathbf{z})} \\left\\{ \\log{q(\\mathbf{Z})} \\right\\} \\\\\n",
    "    &= \\mathbb{E}_{\\mathbf{Z} \\sim q(\\mathbf{z})} \\left\\{ \\log{p(x|\\mathbf{Z})} \\right\\} + \\mathbb{E}_{\\mathbf{Z} \\sim q(\\mathbf{z})} \\left\\{ \\log{p(\\mathbf{Z})} \\right\\} - \\mathbb{E}_{\\mathbf{Z} \\sim q(\\mathbf{z})} \\left\\{ \\log{q(\\mathbf{Z})} \\right\\} \\\\\n",
    "    &= \\mathbb{E}_{\\mathbf{Z} \\sim q(\\mathbf{z})} \\left\\{ \\log{p(x|\\mathbf{Z})} \\right\\} - \\mathbb{E}_{\\mathbf{Z} \\sim q(\\mathbf{z})} \\left\\{ \\log{\\left( \\frac{q(\\mathbf{Z})}{p(\\mathbf{Z})} \\right)} \\right\\} \\\\\n",
    "    &= \\mathbb{E}_{\\mathbf{Z} \\sim q(\\mathbf{z})} \\left\\{ \\log{p(x|\\mathbf{Z})} \\right\\} - KL(q(\\mathbf{Z}) || p(\\mathbf{Z}))\n",
    "  \\end{split}\n",
    "\\end{equation}"
   ]
  },
  {
   "cell_type": "markdown",
   "metadata": {
    "id": "EhBX4dbe6Gog"
   },
   "source": [
    "#### P1b)"
   ]
  },
  {
   "cell_type": "markdown",
   "metadata": {
    "id": "9TgSOsIrCTs8"
   },
   "source": [
    "Explique e interprete la forma de la *Evidence Lower Bound*. En este sentido puede resultarle más fácil considerar la segunda expresión $ELBO(q) = \\mathbb{E}_{\\mathbf{Z} \\sim q(\\mathbf{z})}\\{\\log{p(x|\\mathbf{Z})}\\} - KL(q(\\mathbf{Z})||p(\\mathbf{Z}))$.\n",
    "\n",
    "**Hint**: Puede resultarle útil pensar en lo siguiente: ¿Para qué valores de $\\mathbf{z}$ o bajo qué criterio cada término de este funcional propicia la asignación de masa en $q(\\mathbf{z})$?"
   ]
  },
  {
   "cell_type": "markdown",
   "metadata": {
    "id": "AyTlH97DCqcL"
   },
   "source": [
    "##### Respuesta"
   ]
  },
  {
   "cell_type": "markdown",
   "metadata": {
    "id": "WY7-mFoGCs7K"
   },
   "source": [
    "Para el primer término, notamos que $\\log{p(x|\\mathbf{Z})}$ corresponde al logaritmo de la función de verosimilitud de $x$. Por lo tanto, al maximizar la ELBO se propician distribuciones tales que se asigne una mayor masa a regiones de $\\mathcal{Z}$ donde las representaciones latentes sean capaces de explicar los valores de los datos $x$, es decir que sean verosímiles y con capacidad predictiva.\n",
    "\n",
    "Por otro lado, el término de divergencia actúa como un regularizador, penalizando distribuciones $q(\\mathbf{z})$ que, aunque expliquen de mejor manera los valores de $x$, se alejen mucho de la marginal \"verdadera\" $p(\\mathbf{z})$.\n",
    "\n",
    "Así, el problema de maximizar la ELBO se convierte en uno de Máxima Verosimilitud penalizado según la \"distancia\" entre la marginal variacional y la real."
   ]
  },
  {
   "cell_type": "markdown",
   "metadata": {
    "id": "LIe2jMKvE8II"
   },
   "source": [
    "#### P1c)"
   ]
  },
  {
   "cell_type": "markdown",
   "metadata": {
    "id": "lgEnAugvE973"
   },
   "source": [
    "Explique brevemente por qué los problemas de optimización $\\underset{q(\\mathbf{z}) \\in \\mathcal{Q}}{\\operatorname{arg min}} KL(q(\\mathbf{Z})||p(\\mathbf{Z}|x))$ y $\\underset{q(\\mathbf{z}) \\in \\mathcal{Q}}{\\operatorname{arg max}} ELBO(q)$ son equivalentes."
   ]
  },
  {
   "cell_type": "markdown",
   "metadata": {
    "id": "2ZJsl7U7FF4f"
   },
   "source": [
    "##### Respuesta"
   ]
  },
  {
   "cell_type": "markdown",
   "metadata": {
    "id": "KAGgpq7VFJSf"
   },
   "source": [
    "Retomando la expansión de la divergencia de la primera parte:\n",
    "\n",
    "\\begin{equation}\n",
    "  \\begin{split}\n",
    "    KL(q(\\mathbf{Z})||p(\\mathbf{Z}|x)) &= \\mathbb{E}_{\\mathbf{Z} \\sim q(\\mathbf{z})} \\left\\{ \\log{q(\\mathbf{Z})} \\right\\} + \\log{p(x)} - \\mathbb{E}_{\\mathbf{Z} \\sim q(\\mathbf{z})} \\left\\{ p(x,\\mathbf{z}) \\right\\} \\\\\n",
    "    &= \\log{p(x)} - ELBO(q)\n",
    "  \\end{split}\n",
    "\\end{equation}\n",
    "\n",
    "Luego, es evidente que\n",
    "\n",
    "\\begin{equation}\n",
    "  \\begin{split}\n",
    "    \\underset{q(\\mathbf{z}) \\in \\mathcal{Q}}{\\operatorname{arg min}} KL(q(\\mathbf{Z})||p(\\mathbf{Z}|x)) &= \\underset{q(\\mathbf{z}) \\in \\mathcal{Q}}{\\operatorname{arg min}} \\left[ \\log{p(x)} - ELBO(q) \\right] \\\\\n",
    "    &= \\underset{q(\\mathbf{z}) \\in \\mathcal{Q}}{\\operatorname{arg min}} - ELBO(q) \\\\\n",
    "    &= \\underset{q(\\mathbf{z}) \\in \\mathcal{Q}}{\\operatorname{arg max}} ELBO(q)\n",
    "  \\end{split}\n",
    "\\end{equation}"
   ]
  },
  {
   "cell_type": "markdown",
   "metadata": {
    "id": "rSu1Zd61Vj2P"
   },
   "source": [
    "### P2) *Information Bottleneck* Profundo"
   ]
  },
  {
   "cell_type": "markdown",
   "metadata": {
    "id": "cCwHBUikVqpF"
   },
   "source": [
    "En el mismo estilo que estudiamos para los *Autoencoders* Variacionales deduciremos la forma de definir una función de pérdida adecuada para abordar el problema del *Information Bottleneck* por medio de redes neuronales. Para esto, primero reescribimos el problema de la siguiente manera:\n",
    "\n",
    "\\begin{equation}\n",
    "    \\underset{p(\\mathbf{z}|\\mathbf{x}), p(\\mathbf{y}|\\mathbf{z})}{\\operatorname{max}} R_{IB} = I(\\mathbf{Y};\\mathbf{Z}) - \\beta I(\\mathbf{X};\\mathbf{Z})\n",
    "\\end{equation}\n",
    "\n",
    "de modo tal que deduciremos una cota inferior del funcional, siendo $\\mathbf{Z}$ la variable latente que comprime la señal de entrada $\\mathbf{X}$ y se utiliza en la predicción de $\\mathbf{Y}$, y es tal que $\\mathbf{Z} - \\mathbf{X} - \\mathbf{Y}$."
   ]
  },
  {
   "cell_type": "markdown",
   "metadata": {
    "id": "Sfq4iCeiXkwE"
   },
   "source": [
    "#### P2a)"
   ]
  },
  {
   "cell_type": "markdown",
   "metadata": {
    "id": "Fm8OE9QoXmJr"
   },
   "source": [
    "Consideremos primero una cota inferior para $I(\\mathbf{Y};\\mathbf{Z})$. Considerando que $q(\\mathbf{y}|\\mathbf{z})$ es una aproximación variacional del *decoder* $p(\\mathbf{y}|\\mathbf{z})$ y el supuesto de Markovianidad demuestre que:\n",
    "\n",
    "\\begin{equation}\n",
    "    I(\\mathbf{Y};\\mathbf{Z}) \\geq \\int_{\\mathcal{X}}\\int_{\\mathcal{Z}}\\int_{\\mathcal{Y}}p(z|x)p(y|x)p(x)\\log q(y|z) dydzdx \\equiv \\tilde{I}(\\mathbf{Y};\\mathbf{Z})\n",
    "\\end{equation}"
   ]
  },
  {
   "cell_type": "markdown",
   "metadata": {
    "id": "MZlt0N1pXvHy"
   },
   "source": [
    "##### Respuesta"
   ]
  },
  {
   "cell_type": "markdown",
   "metadata": {
    "id": "3zn2PsRZXwxZ"
   },
   "source": [
    "\\begin{equation}\n",
    "  \\begin{split}\n",
    "    I(\\mathbf{Y};\\mathbf{Z}) &= \\int_{\\mathcal{Z}} \\int_{\\mathcal{Y}} p(y,z) \\log{\\left( \\frac{p(y,z)}{p(y)p(z)} \\right)} dydz \\\\\n",
    "    &= \\int_{\\mathcal{Z}} \\int_{\\mathcal{Y}} p(y,z) \\log{\\left( \\frac{p(y|z)}{p(y)} \\right)} dydz \\\\\n",
    "    &= \\int_{\\mathcal{Z}} \\int_{\\mathcal{Y}} p(y,z) \\log{ p(y|z)} dydz - \\int_{\\mathcal{Z}} \\int_{\\mathcal{Y}} p(y,z) \\log{p(y)} dydz \\\\\n",
    "    &= \\int_{\\mathcal{Z}} \\int_{\\mathcal{Y}} p(y,z) \\log{p(y|z)} dydz + H(\\mathbf{Y})\n",
    "  \\end{split}\n",
    "\\end{equation}\n",
    "\n",
    "Considerando la aproximación variacional $q(\\mathbf{y}|\\mathbf{z})$, notamos que\n",
    "\n",
    "\\begin{equation}\n",
    "  \\begin{split}\n",
    "    0 &\\leq KL(p(\\mathbf{Y}|\\mathbf{Z}) || q(\\mathbf{Y}|\\mathbf{Z})) \\\\\n",
    "    &= \\int_{\\mathcal{Z}} \\int_{\\mathcal{Y}} p(y,z) \\log{\\left( \\frac{p(y|z)}{q(y|z)} \\right)} dydz \\\\\n",
    "    &= \\int_{\\mathcal{Z}} \\int_{\\mathcal{Y}} p(y,z) \\log{p(y|z)} dydz - \\int_{\\mathcal{Z}} \\int_{\\mathcal{Y}} p(y,z) \\log{q(y|z)} dydz\n",
    "  \\end{split}\n",
    "\\end{equation}\n",
    "\n",
    "Por lo que\n",
    "\n",
    "\\begin{equation}\n",
    "  \\int_{\\mathcal{Z}} \\int_{\\mathcal{Y}} p(y,z) \\log{q(y|z)} dydz \\leq \\int_{\\mathcal{Z}} \\int_{\\mathcal{Y}} p(y,z) \\log{p(y|z)} dydz\n",
    "\\end{equation}\n",
    "\n",
    "\\begin{equation}\n",
    "  \\begin{split}\n",
    "    ⇒ I(\\mathbf{Y};\\mathbf{Z}) &\\geq \\int_{\\mathcal{Z}} \\int_{\\mathcal{Y}} p(y,z) \\log{q(y|z)} dydz + H(\\mathbf{Y}) \\\\\n",
    "    &\\geq \\int_{\\mathcal{Z}} \\int_{\\mathcal{Y}} p(y,z) \\log{q(y|z)} dydz \\\\\n",
    "    &= \\int_{\\mathcal{X}} \\int_{\\mathcal{Z}} \\int_{\\mathcal{Y}} p(x,y,z) \\log{q(y|z)} dydzdx \\\\\n",
    "    &= \\int_{\\mathcal{X}} \\int_{\\mathcal{Z}} \\int_{\\mathcal{Y}} p(y,z|x)p(x) \\log{q(y|z)} dydzdx\n",
    "  \\end{split}\n",
    "\\end{equation}\n",
    "\n",
    "Finalmente, por la condición de Markovianidad:\n",
    "\n",
    "\\begin{equation}\n",
    "  I(\\mathbf{Y};\\mathbf{Z}) \\geq \\int_{\\mathcal{X}} \\int_{\\mathcal{Z}} \\int_{\\mathcal{Y}} p(z|x)p(y|x)p(x) \\log{q(y|z)} dydzdx \\equiv \\tilde{I}(\\mathbf{Y};\\mathbf{Z})\n",
    "\\end{equation}"
   ]
  },
  {
   "cell_type": "markdown",
   "metadata": {
    "id": "YydPLJqQXxYZ"
   },
   "source": [
    "#### P2b)"
   ]
  },
  {
   "cell_type": "markdown",
   "metadata": {
    "id": "iZD_lsGWXywa"
   },
   "source": [
    "Para el término $I(\\mathbf{X};\\mathbf{Z})$ es necesaria una cota superior. Demuestre que una aproximación variacional $r(\\mathbf{z})$ del *prior* $p(\\mathbf{z})$ satisface que:\n",
    "\n",
    "\\begin{equation}\n",
    "    I(\\mathbf{X};\\mathbf{Z}) \\leq \\int_{\\mathcal{X}}\\int_{\\mathcal{Z}}\\int_{\\mathcal{Y}}p(z|x)p(y|x)p(x)\\log{\\left( \\frac{p(z|x)}{r(z)} \\right)} dydzdx \\equiv \\tilde{I}(\\mathbf{X};\\mathbf{Z})\n",
    "\\end{equation}"
   ]
  },
  {
   "cell_type": "markdown",
   "metadata": {
    "id": "4aqr6NMmX1KZ"
   },
   "source": [
    "##### Respuesta"
   ]
  },
  {
   "cell_type": "markdown",
   "metadata": {
    "id": "wsDxYLAHX2nR"
   },
   "source": [
    "\\begin{equation}\n",
    "  \\begin{split}\n",
    "    I(\\mathbf{X};\\mathbf{Z})) &= \\int_{\\mathcal{X}} \\int_{\\mathcal{Z}} p(x,z) \\log{\\left( \\frac{p(x,z)}{p(x)p(z)} \\right)} dzdx \\\\ \n",
    "    &= \\int_{\\mathcal{X}} \\int_{\\mathcal{Z}} p(x,z) \\log{\\left( \\frac{p(z|x)}{p(z)} \\right)} dzdx \\\\\n",
    "    &= \\int_{\\mathcal{X}} \\int_{\\mathcal{Z}} p(x,z) \\log{p(z|x)} dzdx - \\int_{\\mathcal{X}} \\int_{\\mathcal{Z}} p(x,z) \\log{p(z)} dzdx \\\\\n",
    "    &= \\int_{\\mathcal{X}} \\int_{\\mathcal{Z}} p(x,z) \\log{p(z|x)} dzdx - \\int_{\\mathcal{Z}} p(z) \\log{p(z)} dz\n",
    "  \\end{split}\n",
    "\\end{equation}\n",
    "\n",
    "Notemos que, para la aproximación variacional $r(\\mathbf{z})$, se satisface que\n",
    "\n",
    "\\begin{equation}\n",
    "  \\begin{split}\n",
    "    0 &\\leq KL(p(\\mathbf{Z}) || r(\\mathbf{Z})) \\\\\n",
    "    &= \\int_{\\mathcal{Z}} p(z) \\log{\\left( \\frac{p(z)}{r(z)} \\right)} dz \\\\\n",
    "    &= \\int_{\\mathcal{Z}} p(z) \\log{p(z)} dz - \\int_{\\mathcal{Z}} p(z) \\log{r(z)} dz\n",
    "  \\end{split}\n",
    "\\end{equation}\n",
    "\n",
    "Por lo que\n",
    "\n",
    "\\begin{equation}\n",
    "  \\int_{\\mathcal{Z}} p(z) \\log{r(z)} dz \\leq \\int_{\\mathcal{Z}} p(z) \\log{p(z)} dz\n",
    "\\end{equation}\n",
    "\n",
    "\\begin{equation}\n",
    "  \\begin{split}\n",
    "    ⇒I(\\mathbf{X};\\mathbf{Z})) &\\leq \\int_{\\mathcal{X}} \\int_{\\mathcal{Z}} p(x,z) \\log{p(z|x)} dzdx - \\int_{\\mathcal{Z}} p(z) \\log{r(z)} dz \\\\\n",
    "    &= \\int_{\\mathcal{X}} \\int_{\\mathcal{Z}} p(x,z) \\log{p(z|x)} dzdx - \\int_{\\mathcal{X}} \\int_{\\mathcal{Z}} p(x,z) \\log{r(z)} dzdx \\\\\n",
    "    &= \\int_{\\mathcal{X}} \\int_{\\mathcal{Z}} p(x,z) \\log{\\left( \\frac{p(z|x)}{r(z)} \\right)} dzdx \\\\\n",
    "    &= \\int_{\\mathcal{X}} \\int_{\\mathcal{Z}} \\int_{\\mathcal{Y}} p(x,y,z) \\log{\\left( \\frac{p(z|x)}{r(z)} \\right)} dydzdx \\\\\n",
    "    &= \\int_{\\mathcal{X}} \\int_{\\mathcal{Z}} \\int_{\\mathcal{Y}} p(y,z|x)p(x) \\log{\\left( \\frac{p(z|x)}{r(z)} \\right)} dydzdx\n",
    "  \\end{split}\n",
    "\\end{equation}\n",
    "\n",
    "Finalmente, por la condición de Markovianidad:\n",
    "\n",
    "\\begin{equation}\n",
    "  I(\\mathbf{X};\\mathbf{Z})) \\leq \\int_{\\mathcal{X}} \\int_{\\mathcal{Z}} \\int_{\\mathcal{Y}} p(z|x)p(y|x)p(x) \\log{\\left( \\frac{p(z|x)}{r(z)} \\right)} dydzdx ≡ \\tilde{I}(\\mathbf{X};\\mathbf{Z}))\n",
    "\\end{equation}"
   ]
  },
  {
   "cell_type": "markdown",
   "metadata": {
    "id": "6iV6CNFoX2qZ"
   },
   "source": [
    "#### P2c)"
   ]
  },
  {
   "cell_type": "markdown",
   "metadata": {
    "id": "JU7YFQ9hX495"
   },
   "source": [
    "Definamos la cota resultante para $R_{IB}$ por\n",
    "\n",
    "\\begin{equation}\n",
    "    \\mathcal{L}_{IB} = \\tilde{I}(\\mathbf{Y};\\mathbf{Z}) - \\beta \\tilde{I}(\\mathbf{X};\\mathbf{Z})\n",
    "\\end{equation}\n",
    "\n",
    "Empleando la distribución conjunta empírica $\\tilde{p}(x,y) = \\frac{1}{N}\\sum_{i=1}^{N}\\delta_{x^{(i)}}(x)\\delta_{y^{(i)}}(y)$ deduzca que\n",
    "\n",
    "\\begin{equation}\n",
    "    \\mathcal{L}_{IB} \\approx \\frac{1}{N}\\sum_{i=1}^{N}\\left[ \\mathbb{E}_{\\mathbf{Z} \\sim p(\\mathbf{z}|x^{i})} \\left\\{ \\log q(y^{(i)}|\\mathbf{Z}) \\right\\} - \\beta KL\\left( p(\\mathbf{Z}|x^{(i)}) || r(\\mathbf{Z}) \\right)\\right]\n",
    "\\end{equation}"
   ]
  },
  {
   "cell_type": "markdown",
   "metadata": {
    "id": "7nJ03P_PYH9R"
   },
   "source": [
    "##### Respuesta"
   ]
  },
  {
   "cell_type": "markdown",
   "metadata": {
    "id": "UQs938BmYJuZ"
   },
   "source": [
    "\\begin{equation}\n",
    "  \\begin{split}\n",
    "    \\mathcal{L}_{IB} &= \\tilde{I}(\\mathbf{Y};\\mathbf{Z}) - \\beta \\tilde{I}(\\mathbf{X};\\mathbf{Z}) \\\\\n",
    "    &= \\int_{\\mathcal{X}} \\int_{\\mathcal{Z}} \\int_\\mathcal{Y} p(z|x)p(y|x)p(x) \\left[ \\log{q(y|z)} - \\beta \\log{\\left( \\frac{p(z|x)}{r(z)} \\right)} \\right] dydzdx \\\\\n",
    "    &= \\int_{\\mathcal{X}} \\int_{\\mathcal{Z}} \\int_\\mathcal{Y} p(z|x)p(x,y) \\left[ \\log{q(y|z)} - \\beta \\log{\\left( \\frac{p(z|x)}{r(z)} \\right)} \\right] dydzdx \\\\\n",
    "    &≈ \\int_{\\mathcal{X}} \\int_{\\mathcal{Z}} \\int_\\mathcal{Y} p(z|x)\\tilde{p}(x,y) \\left[ \\log{q(y|z)} - \\beta \\log{\\left( \\frac{p(z|x)}{r(z)} \\right)} \\right] dydzdx \\\\\n",
    "    &= \\int_{\\mathcal{X}} \\int_{\\mathcal{Z}} \\int_\\mathcal{Y} p(z|x) \\left( \\frac{1}{N}\\sum_{i=1}^{N}\\delta_{x^{(i)}}(x)\\delta_{y^{(i)}}(y) \\right) \\left[ \\log{q(y|z)} - \\beta \\log{\\left( \\frac{p(z|x)}{r(z)} \\right)} \\right] dydzdx \\\\\n",
    "    &= \\frac{1}{N} \\sum_{i=1}^{N} \\int_{\\mathcal{Z}} p(z|x^{(i)}) \\left[ \\log{q(y^{(i)}|z)} - \\beta \\log{\\left( \\frac{p(z|x^{(i)})}{r(z)} \\right)} \\right] dz \\\\\n",
    "    &= \\frac{1}{N} \\sum_{i=1}^{N} \\left[ \\int_{\\mathcal{Z}} p(z|x^{(i)}) \\log{q(y^{(i)}|z)}dz - \\beta \\int_{\\mathcal{Z}} p(z|x^{(i)}) \\log{\\left( \\frac{p(z|x^{(i)})}{r(z)} \\right)}dz \\right] \\\\\n",
    "    &= \\frac{1}{N} \\sum_{i=1}^{N} \\left[ \\mathbb{E}_{\\mathbf{Z} \\sim p(\\mathbf{z}|x^{(i)})} \\left\\{ \\log{q(y^{(i)}|\\mathbf{Z})} \\right\\} - \\beta KL\\left( p(\\mathbf{Z}|x^{(i)}) || r(\\mathbf{Z}) \\right) \\right]\n",
    "  \\end{split}\n",
    "\\end{equation}"
   ]
  },
  {
   "cell_type": "markdown",
   "metadata": {
    "id": "r5VkLUaOBytL"
   },
   "source": [
    "## Preguntas de Simulación"
   ]
  },
  {
   "cell_type": "markdown",
   "metadata": {
    "id": "wsqZjnwlTUXg"
   },
   "source": [
    "En esta parte de la tarea deberán implementar y probar el modelo deducido en la pregunta 2 mediante redes neuronales, donde se considera que las aproximaciones variacionales están parametrizadas por una red correspondiente al *encoder* $p_{\\theta}(\\mathbf{z}|\\mathbf{x})$ y otra para el *decoder* $q_{\\phi}(\\mathbf{y}|\\mathbf{z})$, es decir que el funcional a **minimizar** corresponde a:\n",
    "\n",
    "\\begin{equation}\n",
    "    \\begin{split}\n",
    "        \\mathcal{L}'_{IB}(\\phi, \\theta) &= -\\frac{1}{N}\\sum_{i=1}^{N}\\left[ \\mathbb{E}_{\\mathbf{Z} \\sim p_{\\theta}(\\mathbf{z}|x^{(i)})} \\left\\{ \\log q_{\\phi}(y^{(i)}|\\mathbf{Z}) \\right\\} - \\beta KL\\left( p_\\theta(\\mathbf{Z}|x^{(i)}) || r(\\mathbf{Z}) \\right)\\right] \\\\\n",
    "        &= \\frac{1}{N}\\sum_{i=1}^{N}\\left[ \\mathbb{E}_{\\mathbf{Z} \\sim p_{\\theta}(\\mathbf{z}|x^{(i)})} \\left\\{ -\\log q_{\\phi}(y^{(i)}|\\mathbf{Z}) \\right\\} + \\beta KL\\left( p_\\theta(\\mathbf{Z}|x^{(i)}) || r(\\mathbf{Z}) \\right)\\right]\n",
    "    \\end{split}\n",
    "\\end{equation}\n",
    "\n",
    "Los experimentos se realizarán sobre el *dataset* MNIST en el problema de **clasificación**."
   ]
  },
  {
   "cell_type": "markdown",
   "metadata": {
    "id": "sKmAfMHR-cdm"
   },
   "source": [
    "### Preliminares"
   ]
  },
  {
   "cell_type": "code",
   "execution_count": 1,
   "metadata": {
    "colab": {
     "base_uri": "https://localhost:8080/"
    },
    "id": "DJF0pHAxuxmE",
    "outputId": "b0447215-32d2-4f66-f4c3-27b72704cc40"
   },
   "outputs": [
    {
     "name": "stdout",
     "output_type": "stream",
     "text": [
      "Pytorch version: 1.7.1\n",
      "Device: cuda:0\n"
     ]
    }
   ],
   "source": [
    "# %tensorflow_version 1.x\n",
    "# %load_ext tensorboard\n",
    "\n",
    "%matplotlib inline\n",
    "import math\n",
    "import matplotlib.pyplot as plt\n",
    "from matplotlib.patches import Ellipse\n",
    "from matplotlib.lines import Line2D\n",
    "import matplotlib.transforms as plttransforms\n",
    "import numpy as np\n",
    "\n",
    "import torch\n",
    "import torch.distributions as D\n",
    "import torch.nn as nn\n",
    "import torch.nn.functional as F\n",
    "\n",
    "import torchvision\n",
    "import torchvision.transforms as transforms\n",
    "import torchvision.datasets as datasets\n",
    "\n",
    "from copy import deepcopy\n",
    "from matplotlib import cm\n",
    "from mpl_toolkits import mplot3d\n",
    "from sklearn.datasets import fetch_openml\n",
    "from sklearn.datasets import make_blobs\n",
    "from sklearn.decomposition import PCA\n",
    "from torch.utils.data import Dataset, DataLoader, Subset\n",
    "\n",
    "print('Pytorch version:', torch.__version__)\n",
    "\n",
    "use_gpu = True\n",
    "device = torch.device(\"cuda:0\" if use_gpu and torch.cuda.is_available() else \"cpu\")\n",
    "print('Device:', device)"
   ]
  },
  {
   "cell_type": "code",
   "execution_count": 5,
   "metadata": {
    "id": "nqN6x5bu4s9h"
   },
   "outputs": [],
   "source": [
    "class RangeNormalize:\n",
    "    '''Normalize input to a given range [a,b]'''\n",
    "    def __init__(self, a, b):\n",
    "        self.a = a\n",
    "        self.b = b\n",
    "\n",
    "    def __call__(self, input):\n",
    "        min = input.amin(dim=(1,2))\n",
    "        max = input.amax(dim=(1,2))\n",
    "\n",
    "        m = self.b - self.a\n",
    "        \n",
    "        return (self.a + m * (input.T - min) / (max - min)).T"
   ]
  },
  {
   "cell_type": "code",
   "execution_count": 6,
   "metadata": {
    "colab": {
     "base_uri": "https://localhost:8080/",
     "height": 0,
     "referenced_widgets": [
      "7a449733ea5a4264be7f7fc97d4e6a11",
      "99e19746bef74b6f828bae3d17e56418",
      "505c8aac35724806b3c0630db91bc176",
      "096230ff467740f6a8c7f4534a3f0542",
      "29c09c7f06684370b007cf36188b6e2e",
      "a4a6aac8de7c4b1ca271295fde4c1f3d",
      "ecc787722c604a0485eca5b847d6ac17",
      "2b9bddf074664f26a18c0dc5bc70ef79",
      "2b2bd4304226486ebc2ca59d04280449",
      "3bf785583d444a008fa0cdab21fecad9",
      "57e5b19ea3ca42cbafb97477af025bfd",
      "05842dc93c4840b8bed2b67522105376",
      "cd27e891c970413f8cf5d5957fecbe7d",
      "ad858dd47b21440d974b928588f08184",
      "0dce8674411a434dbf6c90c82eebfb68",
      "a4b27774f78a40c48c513aca89243cda",
      "30e91ebbeb8e4a40b44da1ebac4c6b6e",
      "a1dcb29752a1495786790222603771e7",
      "10df33fbbabc45db87e38531d7f49bf0",
      "4613116ed474450089852b504652c853",
      "a2d3620b2d9643e68e6253977ea1692f",
      "88e0ec49da044e49a7a4b1716400f315",
      "26791144c69544648feca0578f425db8",
      "f9771d16e5904990ab2141078e6531c8",
      "db27109410804be6bb28e4c40407859d",
      "3011c89cc1c442e1b91690865b8cc4d7",
      "c86266e412ea47d09a7290b490933f7b",
      "fad5fe4156d449a08585537487c62302",
      "dd73f918957740e1a0dd4f7f739a3bec",
      "29b2f3cd26c04d3a9fbb42fecfc44b14",
      "6d4101c98d52401ab8bf3bbe9f449e03",
      "5e071edb89cc4599b853bdd136b99ddc",
      "9ebff45abd3e43758acac73aedb1df71",
      "ad720514afe342e59f81f0471455fe62",
      "dbe27268716443179e6f95d94572e96f",
      "48f14df8690a49b5b0182160eef13924",
      "b709c6764f7a461398f503770d06d5aa",
      "949b197dc90848fc93ae8282d7e8a52a",
      "8f85912d1f134940beea3d5e39c2e001",
      "ff1a0254523e4e6aa2135aeb846dec83",
      "cf157e2b8f67418c971192bf2f612335",
      "b0f3b79097ac41e5bcde84276bf8a5c4",
      "f587c97a873545ae8d1545db35e0788e",
      "b6cabb4e551c435883f872c6c7220ec7"
     ]
    },
    "id": "_KYuM3sI6C5n",
    "outputId": "d6139e4c-3351-4fbd-b52d-9219a8bc3fde"
   },
   "outputs": [],
   "source": [
    "#  Batch Sizes\n",
    "train_batch_size = 100\n",
    "val_batch_size = 1000\n",
    "\n",
    "# Train-Val Split\n",
    "transformations = transforms.Compose([transforms.ToTensor(),\n",
    "                                      RangeNormalize(-1, 1)])\n",
    "\n",
    "train_dataset_mnist = datasets.MNIST(root='./', train=True, download=True,\n",
    "                                     transform=transformations)\n",
    "\n",
    "val_dataset_mnist = datasets.MNIST(root='./', train=False, \n",
    "                                   transform=transformations)\n",
    "\n",
    "\n",
    "# DataLoaders\n",
    "train_loader_mnist = torch.utils.data.DataLoader(train_dataset_mnist,\n",
    "                                           batch_size = train_batch_size)\n",
    "val_loader_mnist = torch.utils.data.DataLoader(val_dataset_mnist,\n",
    "                                          batch_size = val_batch_size)"
   ]
  },
  {
   "cell_type": "code",
   "execution_count": 7,
   "metadata": {
    "colab": {
     "base_uri": "https://localhost:8080/",
     "height": 0
    },
    "id": "wvEINlCDMzlW",
    "outputId": "d777b960-98a2-41c0-fac4-02352d4ca8e1"
   },
   "outputs": [
    {
     "name": "stdout",
     "output_type": "stream",
     "text": [
      "Label : 1\n"
     ]
    },
    {
     "data": {
      "image/png": "[encoded data removed]",
      "text/plain": [
       "<Figure size 432x288 with 1 Axes>"
      ]
     },
     "metadata": {
      "needs_background": "light"
     },
     "output_type": "display_data"
    },
    {
     "name": "stdout",
     "output_type": "stream",
     "text": [
      "Max value: 1.0, Min value: -1.0\n"
     ]
    }
   ],
   "source": [
    "loader = val_loader_mnist\n",
    "index = np.random.randint(len(loader.dataset))\n",
    "img = loader.dataset[index][0].numpy()[0]\n",
    "print('Label : {}'.format(loader.dataset[index][1]))\n",
    "plt.figure()\n",
    "plt.imshow(img,cmap=cm.gray)\n",
    "plt.show()\n",
    "print('Max value: {}, Min value: {}'.format(np.amax(img), np.amin(img)))"
   ]
  },
  {
   "cell_type": "markdown",
   "metadata": {
    "id": "ozOMvHAMbHyE"
   },
   "source": [
    "### i)"
   ]
  },
  {
   "cell_type": "markdown",
   "metadata": {
    "id": "YRvH3rrGbGtF"
   },
   "source": [
    "Implemente una clase $\\texttt{DeepIB}$ que corresponda a la siguiente arquitectura:\n",
    "\n",
    "* *Encoder* Gaussiano: Red *fully-connected* $784\\to1024\\to1024\\to2K$, donde K es la dimensionalidad de la variable latente. Los primeros $K$ valores de dicha capa corresponderán a $\\mu_{\\mathbf{z}}(\\mathbf{x})$ y las siguientes $K$ componentes comprenden las desviaciones estándar $\\sigma_{\\mathbf{z}}(\\mathbf{x})$ (notar entonces que estamos hablando de una matriz de covarianza diagonal). Entre cada capa debe usar la función de activación $\\texttt{ReLU}$.\n",
    "**Hint**: Para asegurar que las desviaciones estándar $\\sigma_{\\mathbf{z}}(\\mathbf{x})$ sean positivas se recomienda aplicarles la siguiente transformación: \n",
    "\n",
    "\\begin{equation}\n",
    "    \\sigma_{\\mathbf{z}}(\\mathbf{x}) = \\log (1 + \\exp (\\sigma_{\\mathbf{z}}^{raw}(\\mathbf{x}) - 5.0)),\n",
    "\\end{equation}\n",
    "\n",
    "$\\hspace{7mm}$ donde $\\sigma_{\\mathbf{z}}^{raw}(\\mathbf{x})$ denota a la desviación estándar antes de aplicar esta transformación.\n",
    "\n",
    "* *Decoder*: Red *fully-connected* $K\\to10$.\n",
    "\n",
    "Para la Función de Costo considere $r(\\mathbf{z}) = \\mathcal{N}(\\mathbf{z};0,I)$ (es decir que requiere una expresión cerrada para el término de divergencia).\n",
    "\n",
    "**Hint**: Dado que el *decoder* aborda el problema de clasificación, puede usar la función de *Cross-Entropy* o similar para el primer término, en forma astuta."
   ]
  },
  {
   "cell_type": "markdown",
   "metadata": {
    "id": "zYlIjkWsbXXD"
   },
   "source": [
    "##### Respuesta"
   ]
  },
  {
   "cell_type": "markdown",
   "metadata": {
    "id": "po_-_iMQiwyI"
   },
   "source": [
    "Partimos implementando el *encoder* Gaussiano y el *decoder* por separado y los juntamos en la clase pedida:"
   ]
  },
  {
   "cell_type": "code",
   "execution_count": 8,
   "metadata": {
    "id": "-TM-f97si7X4"
   },
   "outputs": [],
   "source": [
    "class Encoder(nn.Module):\n",
    "    def __init__(self, K):\n",
    "        super(Encoder, self).__init__()\n",
    "        self.fc = nn.Sequential()\n",
    "\n",
    "        layer_dims = [784, 1024, 1024, 2 * K]\n",
    "        for i in range(len(layer_dims)-1):\n",
    "            self.fc.add_module(f'Linear{i}', nn.Linear(layer_dims[i], layer_dims[i+1]))\n",
    "            if not i == len(layer_dims) - 2:\n",
    "                self.fc.add_module(f'Act{i}', nn.ReLU())\n",
    "\n",
    "    def forward(self, x):\n",
    "        K = int(self.fc[-1].weight.shape[0] / 2)\n",
    "        \n",
    "        encoding = self.fc(x)\n",
    "        mu = encoding[:,:K]\n",
    "        std_raw = encoding[:,K:]\n",
    "        std = (1 + (std_raw - 5.0).exp()).log()\n",
    "\n",
    "        return mu, std\n",
    "\n",
    "\n",
    "\n",
    "class Decoder(nn.Module):\n",
    "    def __init__(self, K):\n",
    "        super(Decoder, self).__init__()\n",
    "        self.fc = nn.Sequential(nn.Linear(K, 10),\n",
    "                                nn.LogSoftmax(dim=-1))\n",
    "    \n",
    "    def forward(self, x):\n",
    "        return self.fc(x)\n",
    "\n",
    "\n",
    "\n",
    "class DeepIB(nn.Module):\n",
    "    def __init__(self, K):\n",
    "        super(DeepIB, self).__init__()\n",
    "        self.encoder = Encoder(K)\n",
    "        self.decoder = Decoder(K)\n",
    "\n",
    "    def forward(self, x, L=1):\n",
    "        mu, std = self.encoder(x)\n",
    "        z_samples = self.sample_z(mu, std, L)\n",
    "        return mu, std, self.decoder(z_samples)\n",
    "\n",
    "    def sample_z(self, mu, std, L):\n",
    "        mu = mu.unsqueeze(1)\n",
    "        std = std.unsqueeze(1)\n",
    "        if self.training:\n",
    "            mu = mu.repeat(1,L,1)\n",
    "            std = std.repeat(1,L,1)\n",
    "        epsilon = torch.randn_like(std)\n",
    "        \n",
    "        return mu + std * epsilon"
   ]
  },
  {
   "cell_type": "markdown",
   "metadata": {
    "id": "hNC3AY5fcVjb"
   },
   "source": [
    "Dadas las restricciones de diseño sobre el *encoder* $p_{\\theta}(\\mathbf{z}|\\mathbf{x})$ y el prior $r(\\mathbf{z})$, podemos recurrir al diseño visto en clases, es decir que el término de divergencia del funcional objetivo se puede calcular en forma cerrada como\n",
    "\n",
    "\\begin{equation}\n",
    "  KL\\left(p_{\\theta}(\\mathbf{z}|\\mathbf{x}^{(i)})||p_{\\theta}(\\mathbf{z})\\right) = -\\frac{1}{2}\\sum_{k=1}^{K}1+\\log \\sigma_{z_{k}}^{2}(x^{(i)}) - \\mu_{z_{k}}^{2}(x^{(i)}) - \\sigma_{z_{k}}^{2}(x^{(i)})\n",
    "\\end{equation}\n",
    "\n",
    "Luego, definimos el funcional objetivo como sigue:"
   ]
  },
  {
   "cell_type": "code",
   "execution_count": 9,
   "metadata": {
    "id": "MNlo4eVHNLZC"
   },
   "outputs": [],
   "source": [
    "def DVIBLoss(y, mu, std, y_pred, beta):\n",
    "    ## CE computation\n",
    "    y = y.view(-1,1) * torch.ones(y_pred.shape[:-1], dtype=torch.long).to(y.device)\n",
    "    CE_i = nn.NLLLoss(reduction='none')(y_pred.transpose(2,1), y).mean(dim=-1)\n",
    "\n",
    "    ## KLD computation\n",
    "    KL_i = (-0.5 * (1 + std.pow(2).log() - mu.pow(2) - std.pow(2))).sum(dim=-1)\n",
    "\n",
    "    CE = CE_i.mean()\n",
    "    KL = KL_i.mean()\n",
    "\n",
    "    loss = CE + beta * KL\n",
    "\n",
    "    return loss"
   ]
  },
  {
   "cell_type": "markdown",
   "metadata": {
    "id": "tD0W-KsGbYEK"
   },
   "source": [
    "### ii)"
   ]
  },
  {
   "cell_type": "markdown",
   "metadata": {
    "id": "DkziYrPybaPT"
   },
   "source": [
    "Implemente una clase $\\texttt{MLP}$ correspondiente a la arquitectura $784\\to1024\\to1024\\to K\\to10$ para un mismo valor de $K$ que en el caso de $\\texttt{DeepIB}$."
   ]
  },
  {
   "cell_type": "markdown",
   "metadata": {
    "id": "TBxDD99abiUT"
   },
   "source": [
    "##### Respuesta"
   ]
  },
  {
   "cell_type": "markdown",
   "metadata": {
    "id": "yLaRMepgcZVi"
   },
   "source": [
    "Recurrimos a un esquema similar al utilizado para el encoder, agregando una capa extra que retorna las probabilidades:"
   ]
  },
  {
   "cell_type": "code",
   "execution_count": 10,
   "metadata": {
    "id": "JkDJVXoYT_in"
   },
   "outputs": [],
   "source": [
    "class MLP(nn.Module):\n",
    "    def __init__(self, K):\n",
    "        super(MLP, self).__init__()\n",
    "        self.fc = nn.Sequential()\n",
    "\n",
    "        layer_dims = [784, 1024, 1024, K, 10]\n",
    "        for i in range(len(layer_dims)-1):\n",
    "            self.fc.add_module(f'Linear{i}', nn.Linear(layer_dims[i], layer_dims[i+1]))\n",
    "            if not i == len(layer_dims) - 2:\n",
    "                self.fc.add_module(f'Act{i}', nn.ReLU())\n",
    "            else:\n",
    "                self.fc.add_module('LogProbs', nn.LogSoftmax(dim=1))\n",
    "\n",
    "    def forward(self, x):\n",
    "        return self.fc(x)"
   ]
  },
  {
   "cell_type": "markdown",
   "metadata": {
    "id": "BrQ4ij6Hbiri"
   },
   "source": [
    "### iii)"
   ]
  },
  {
   "cell_type": "markdown",
   "metadata": {
    "id": "IgWWVJn1bjzj"
   },
   "source": [
    "Para $K=2$ y $\\beta \\in \\{10^{-3}, 10^{-1},1\\}$, entrene ambos modelos considerando un *loop* de entrenamiento tal que el *learning rate* del optimizador Adam decaiga al $97\\%$ de su valor cada $2$ épocas (ver [$\\texttt{torch.optim.lr_scheduler}$](https://pytorch.org/docs/stable/optim.html#how-to-adjust-learning-rate)):\n",
    "\n",
    "$\\texttt{lr0 = 1e-4}$\n",
    "\n",
    "$\\texttt{adam_beta1 = 0.5}$\n",
    "\n",
    "$\\texttt{adam_beta2 = 0.999}$\n",
    "\n",
    "$\\texttt{lr_decay = 0.97}$\n",
    "\n",
    "$\\texttt{decay_rate = 2}$\n",
    "\n",
    "$\\texttt{nEpochs = 200}$\n",
    "\n",
    "Como parámetro $L$ de muestreo para aplicar el *Reparametrization Trick* puede utilizar $L=12$. Si usa la función de Pytorch [$\\texttt{torch.nn.CrossEntropyLoss}$](https://pytorch.org/docs/master/generated/torch.nn.CrossEntropyLoss.html#torch.nn.CrossEntropyLoss) o similar, se recomienda revisar la documentación, en particular el caso multidimensional y el efecto del parámetro $\\texttt{reduction}$ para una correcta implementación del funcional objetivo.\n",
    "\n",
    "Compare y analice la *accuracy* obtenida por los modelos estocásticos obtenidos entre sí y con el modelo $\\texttt{MLP}$ clásico, así como también la función de pérdida de cada uno.\n",
    "\n",
    "Además, para los modelos estocásticos, obtenga la proyección de los datos de prueba en el espacio latente $K$-dimensional y analice el efecto de $\\beta$ en este resultado."
   ]
  },
  {
   "cell_type": "markdown",
   "metadata": {
    "id": "wcDW56Y5cbYa"
   },
   "source": [
    "##### Respuesta"
   ]
  },
  {
   "cell_type": "markdown",
   "metadata": {
    "id": "8S9v4CU7cba3"
   },
   "source": [
    "Definamos los parámetros para nuestros modelos y una función para la *accuracy*:"
   ]
  },
  {
   "cell_type": "code",
   "execution_count": 11,
   "metadata": {
    "id": "JlGqxOsnWni5"
   },
   "outputs": [],
   "source": [
    "betas = [1e-3, 0.1, 1]\n",
    "K = 2\n",
    "L = 12\n",
    "\n",
    "lr0 = 1e-4\n",
    "adam_beta1 = 0.5\n",
    "adam_beta2 = 0.999\n",
    "lr_decay = 0.97\n",
    "decay_rate = 2\n",
    "nEpochs = 200\n",
    "\n",
    "report_rate = 25"
   ]
  },
  {
   "cell_type": "code",
   "execution_count": 12,
   "metadata": {
    "id": "uWN7GGCEdot_"
   },
   "outputs": [],
   "source": [
    "def correct_hits(y_pred,  target):\n",
    "    pred = np.argmax(y_pred, axis=-1)\n",
    "    return np.sum(np.equal(pred, target))"
   ]
  },
  {
   "cell_type": "markdown",
   "metadata": {
    "id": "--ET2VdRaClV"
   },
   "source": [
    "Entrenamos la MLP:"
   ]
  },
  {
   "cell_type": "code",
   "execution_count": 50,
   "metadata": {
    "id": "oLxHk4dgaEo9"
   },
   "outputs": [],
   "source": [
    "baselineMLP = MLP(K).to(device)\n",
    "\n",
    "optimizer = torch.optim.Adam(baselineMLP.parameters(), lr0, (adam_beta1, adam_beta2))\n",
    "\n",
    "lmbda = lambda epoch: lr_decay\n",
    "scheduler = torch.optim.lr_scheduler.MultiplicativeLR(optimizer, lr_lambda=lmbda)\n",
    "\n",
    "criterion = nn.NLLLoss()"
   ]
  },
  {
   "cell_type": "code",
   "execution_count": 51,
   "metadata": {
    "colab": {
     "base_uri": "https://localhost:8080/"
    },
    "id": "I36SRJwQbNZ8",
    "outputId": "0a6862b3-fee1-4e47-925c-7838f8dc8cb4"
   },
   "outputs": [
    {
     "name": "stdout",
     "output_type": "stream",
     "text": [
      "Epoch  25 || Train Loss : 0.812 || Val Loss : 0.931\n",
      "          || Train Accu : 0.685 || Val Accu : 0.673\n",
      "Epoch  50 || Train Loss : 0.375 || Val Loss : 0.659\n",
      "          || Train Accu : 0.888 || Val Accu : 0.869\n",
      "Epoch  75 || Train Loss : 0.258 || Val Loss : 0.688\n",
      "          || Train Accu : 0.894 || Val Accu : 0.869\n",
      "Epoch 100 || Train Loss : 0.203 || Val Loss : 0.809\n",
      "          || Train Accu : 0.898 || Val Accu : 0.866\n",
      "Epoch 125 || Train Loss : 0.187 || Val Loss : 0.939\n",
      "          || Train Accu : 0.899 || Val Accu : 0.866\n",
      "Epoch 150 || Train Loss : 0.176 || Val Loss : 1.013\n",
      "          || Train Accu : 0.902 || Val Accu : 0.868\n",
      "Epoch 175 || Train Loss : 0.172 || Val Loss : 1.152\n",
      "          || Train Accu : 0.902 || Val Accu : 0.868\n",
      "Epoch 200 || Train Loss : 0.168 || Val Loss : 1.238\n",
      "          || Train Accu : 0.904 || Val Accu : 0.867\n"
     ]
    }
   ],
   "source": [
    "MLP_loss_train = []\n",
    "MLP_loss_eval = []\n",
    "MLP_acc_train = []\n",
    "MLP_acc_eval = []\n",
    "for epoch in np.arange(nEpochs):\n",
    "\n",
    "    ## Train\n",
    "    baselineMLP.train()\n",
    "    loader = train_loader_mnist\n",
    "    for X, y in loader:\n",
    "        ## Data preparation\n",
    "        X = X.reshape(-1, 784).to(device)\n",
    "        y = y.to(device)\n",
    "\n",
    "        ## Prediction\n",
    "        y_pred = baselineMLP(X)\n",
    "\n",
    "        ## Loss\n",
    "        loss = criterion(y_pred, y)\n",
    "\n",
    "        ## Train step\n",
    "        optimizer.zero_grad()\n",
    "        loss.backward()\n",
    "        optimizer.step()\n",
    "\n",
    "\n",
    "\n",
    "    ## Performance measurement\n",
    "    baselineMLP.eval()\n",
    "    with torch.no_grad():\n",
    "        ## Train set\n",
    "        loader = train_loader_mnist\n",
    "        temp_loss = 0\n",
    "        temp_acc = 0\n",
    "        for X, y in loader:\n",
    "            ## Data preparation\n",
    "            X = X.reshape(-1, 784).to(device)\n",
    "            y = y.to(device)\n",
    "\n",
    "            ## Prediction\n",
    "            y_pred = baselineMLP(X)\n",
    "\n",
    "            ## Loss\n",
    "            loss = criterion(y_pred, y)\n",
    "            temp_loss += loss.item() / len(loader)\n",
    "\n",
    "            ## Accuracy\n",
    "            hits = correct_hits(y_pred.exp().clone().detach().cpu().numpy(),\n",
    "                                y.clone().detach().cpu().numpy())\n",
    "            temp_acc += hits / len(loader.dataset)\n",
    "\n",
    "        MLP_loss_train.append(temp_loss)\n",
    "        MLP_acc_train.append(temp_acc)\n",
    "\n",
    "        ## Test set\n",
    "        loader = val_loader_mnist\n",
    "        temp_loss = 0\n",
    "        temp_acc = 0\n",
    "        for X, y in loader:\n",
    "            ## Data preparation\n",
    "            X = X.reshape(-1, 784).to(device)\n",
    "            y = y.to(device)\n",
    "\n",
    "            ## Prediction\n",
    "            y_pred = baselineMLP(X)\n",
    "\n",
    "            ## Loss\n",
    "            loss = criterion(y_pred, y)\n",
    "            temp_loss += loss.item() / len(loader)\n",
    "\n",
    "            ## Accuracy\n",
    "            hits = correct_hits(y_pred.exp().clone().detach().cpu().numpy(),\n",
    "                                y.clone().detach().cpu().numpy())\n",
    "            temp_acc += hits / len(loader.dataset)\n",
    "\n",
    "        MLP_loss_eval.append(temp_loss)\n",
    "        MLP_acc_eval.append(temp_acc)\n",
    "\n",
    "        if (epoch + 1) % report_rate == 0:\n",
    "            print('Epoch {:3d} || Train Loss : {:5.3f} || Val Loss : {:5.3f}'.format(epoch+1,MLP_loss_train[-1],MLP_loss_eval[-1]))\n",
    "            print('          || Train Accu : {:5.3f} || Val Accu : {:5.3f}'.format(MLP_acc_train[-1], MLP_acc_eval[-1]))\n",
    "\n",
    "\n",
    "\n",
    "    ## Scheduler\n",
    "    if (epoch + 1) % decay_rate == 0:\n",
    "        scheduler.step()"
   ]
  },
  {
   "cell_type": "markdown",
   "metadata": {
    "id": "CGRYEIfXn1zI"
   },
   "source": [
    "Y ahora entrenamos los modelos DeepIB"
   ]
  },
  {
   "cell_type": "code",
   "execution_count": 15,
   "metadata": {
    "colab": {
     "base_uri": "https://localhost:8080/"
    },
    "id": "8mNIbL4Mn-7B",
    "outputId": "8c38b7f1-444f-4eaf-f449-c36da6f43d03"
   },
   "outputs": [
    {
     "name": "stdout",
     "output_type": "stream",
     "text": [
      "\n",
      " Beta = 0.001\n",
      "\n",
      "Epoch  25 || Train Loss : 0.246 || Val Loss : 0.361\n",
      "          || Train Accu : 0.994 || Val Accu : 0.965\n",
      "Epoch  50 || Train Loss : 0.147 || Val Loss : 0.294\n",
      "          || Train Accu : 1.000 || Val Accu : 0.969\n",
      "Epoch  75 || Train Loss : 0.110 || Val Loss : 0.262\n",
      "          || Train Accu : 1.000 || Val Accu : 0.969\n",
      "Epoch 100 || Train Loss : 0.091 || Val Loss : 0.248\n",
      "          || Train Accu : 1.000 || Val Accu : 0.971\n",
      "Epoch 125 || Train Loss : 0.080 || Val Loss : 0.242\n",
      "          || Train Accu : 1.000 || Val Accu : 0.970\n",
      "Epoch 150 || Train Loss : 0.073 || Val Loss : 0.237\n",
      "          || Train Accu : 1.000 || Val Accu : 0.971\n",
      "Epoch 175 || Train Loss : 0.069 || Val Loss : 0.235\n",
      "          || Train Accu : 1.000 || Val Accu : 0.971\n",
      "Epoch 200 || Train Loss : 0.066 || Val Loss : 0.231\n",
      "          || Train Accu : 1.000 || Val Accu : 0.970\n",
      "\n",
      " Beta = 0.1\n",
      "\n",
      "Epoch  25 || Train Loss : 1.181 || Val Loss : 1.223\n",
      "          || Train Accu : 0.852 || Val Accu : 0.831\n",
      "Epoch  50 || Train Loss : 0.935 || Val Loss : 1.001\n",
      "          || Train Accu : 0.964 || Val Accu : 0.933\n",
      "Epoch  75 || Train Loss : 0.818 || Val Loss : 0.899\n",
      "          || Train Accu : 0.987 || Val Accu : 0.955\n",
      "Epoch 100 || Train Loss : 0.754 || Val Loss : 0.837\n",
      "          || Train Accu : 0.991 || Val Accu : 0.960\n",
      "Epoch 125 || Train Loss : 0.716 || Val Loss : 0.804\n",
      "          || Train Accu : 0.994 || Val Accu : 0.961\n",
      "Epoch 150 || Train Loss : 0.691 || Val Loss : 0.783\n",
      "          || Train Accu : 0.994 || Val Accu : 0.962\n",
      "Epoch 175 || Train Loss : 0.674 || Val Loss : 0.769\n",
      "          || Train Accu : 0.994 || Val Accu : 0.962\n",
      "Epoch 200 || Train Loss : 0.664 || Val Loss : 0.755\n",
      "          || Train Accu : 0.995 || Val Accu : 0.964\n",
      "\n",
      " Beta = 1\n",
      "\n",
      "Epoch  25 || Train Loss : 2.308 || Val Loss : 2.309\n",
      "          || Train Accu : 0.175 || Val Accu : 0.177\n",
      "Epoch  50 || Train Loss : 2.302 || Val Loss : 2.302\n",
      "          || Train Accu : 0.174 || Val Accu : 0.174\n",
      "Epoch  75 || Train Loss : 2.304 || Val Loss : 2.307\n",
      "          || Train Accu : 0.177 || Val Accu : 0.181\n",
      "Epoch 100 || Train Loss : 2.300 || Val Loss : 2.304\n",
      "          || Train Accu : 0.178 || Val Accu : 0.177\n",
      "Epoch 125 || Train Loss : 2.300 || Val Loss : 2.298\n",
      "          || Train Accu : 0.176 || Val Accu : 0.180\n",
      "Epoch 150 || Train Loss : 2.301 || Val Loss : 2.306\n",
      "          || Train Accu : 0.176 || Val Accu : 0.176\n",
      "Epoch 175 || Train Loss : 2.300 || Val Loss : 2.305\n",
      "          || Train Accu : 0.174 || Val Accu : 0.172\n",
      "Epoch 200 || Train Loss : 2.300 || Val Loss : 2.305\n",
      "          || Train Accu : 0.175 || Val Accu : 0.179\n"
     ]
    }
   ],
   "source": [
    "DVIBResults = {}\n",
    "for beta in betas:\n",
    "    print(f'\\n Beta = {beta}\\n')\n",
    "    ## Settings\n",
    "    DVIBModel = DeepIB(K).to(device)\n",
    "\n",
    "    optimizer = torch.optim.Adam(DVIBModel.parameters(), lr0, (adam_beta1, adam_beta2))\n",
    "\n",
    "    lmbda = lambda epoch: lr_decay\n",
    "    scheduler = torch.optim.lr_scheduler.MultiplicativeLR(optimizer, lr_lambda=lmbda)\n",
    "\n",
    "    criterion = DVIBLoss\n",
    "\n",
    "\n",
    "\n",
    "    DVIB_CE_train = []\n",
    "    DVIB_CE_eval = []\n",
    "    DVIB_KL_train = []\n",
    "    DVIB_KL_eval = []\n",
    "    DVIB_loss_train = []\n",
    "    DVIB_loss_eval = []\n",
    "    DVIB_acc_train = []\n",
    "    DVIB_acc_eval = []\n",
    "    for epoch in np.arange(nEpochs):\n",
    "\n",
    "        ## Train\n",
    "        DVIBModel.train()\n",
    "        loader = train_loader_mnist\n",
    "        for X, y in loader:\n",
    "            ## Data preparation\n",
    "            X = X.reshape(-1, 784).to(device)\n",
    "            y = y.to(device)\n",
    "\n",
    "            ## Prediction\n",
    "            mu, std, y_pred = DVIBModel(X, L)\n",
    "\n",
    "            ## Loss\n",
    "            loss = criterion(y, mu, std, y_pred, beta)\n",
    "\n",
    "            ## Train step\n",
    "            optimizer.zero_grad()\n",
    "            loss.backward()\n",
    "            optimizer.step()\n",
    "\n",
    "\n",
    "\n",
    "        ## Performance measurement\n",
    "        DVIBModel.eval()\n",
    "        with torch.no_grad():\n",
    "            ## Train set\n",
    "            loader = train_loader_mnist\n",
    "            temp_ce = 0\n",
    "            temp_kl = 0\n",
    "            temp_loss = 0\n",
    "            temp_acc = 0\n",
    "            for X, y in loader:\n",
    "                ## Data preparation\n",
    "                X = X.reshape(-1, 784).to(device)\n",
    "                y = y.to(device)\n",
    "\n",
    "                ## Prediction\n",
    "                mu, std, y_pred = DVIBModel(X, L)\n",
    "\n",
    "                ## Loss\n",
    "                y_ = y.view(-1,1) * torch.ones(y_pred.shape[:-1], dtype=torch.long).to(device)\n",
    "                CE_i = nn.NLLLoss(reduction='none')(y_pred.transpose(2,1), y_).mean(dim=-1)\n",
    "                KL_i = (-0.5 * (1 + std.pow(2).log() - mu.pow(2) - std.pow(2))).sum(dim=-1)\n",
    "\n",
    "                CE = CE_i.mean().item()\n",
    "                KL = KL_i.mean().item()\n",
    "                loss = CE + beta * KL\n",
    "\n",
    "                temp_ce += CE / len(loader)\n",
    "                temp_kl += KL / len(loader)\n",
    "                temp_loss += loss / len(loader)\n",
    "\n",
    "                ## Accuracy\n",
    "                hits = correct_hits(y_pred.exp().clone().detach().cpu().numpy(),\n",
    "                                    y.view(-1,1).clone().detach().cpu().numpy())\n",
    "                temp_acc += hits / len(loader.dataset)\n",
    "\n",
    "            DVIB_CE_train.append(temp_ce)\n",
    "            DVIB_KL_train.append(temp_kl)\n",
    "            DVIB_loss_train.append(temp_loss)\n",
    "            DVIB_acc_train.append(temp_acc)\n",
    "\n",
    "            ## Test set\n",
    "            loader = val_loader_mnist\n",
    "            temp_ce = 0\n",
    "            temp_kl = 0\n",
    "            temp_loss = 0\n",
    "            temp_acc = 0\n",
    "            for X, y in loader:\n",
    "                ## Data preparation\n",
    "                X = X.reshape(-1, 784).to(device)\n",
    "                y = y.to(device)\n",
    "\n",
    "                ## Prediction\n",
    "                mu, std, y_pred = DVIBModel(X, L)\n",
    "\n",
    "                ## Loss\n",
    "                y_ = y.view(-1,1) * torch.ones(y_pred.shape[:-1], dtype=torch.long).to(device)\n",
    "                CE_i = nn.NLLLoss(reduction='none')(y_pred.transpose(2,1), y_).mean(dim=-1)\n",
    "                KL_i = (-0.5 * (1 + std.pow(2).log() - mu.pow(2) - std.pow(2))).sum(dim=-1)\n",
    "\n",
    "                CE = CE_i.mean().item()\n",
    "                KL = KL_i.mean().item()\n",
    "                loss = CE + beta * KL\n",
    "\n",
    "                temp_ce += CE / len(loader)\n",
    "                temp_kl += KL / len(loader)\n",
    "                temp_loss += loss / len(loader)\n",
    "\n",
    "                ## Accuracy\n",
    "                hits = correct_hits(y_pred.exp().clone().detach().cpu().numpy(),\n",
    "                                    y.view(-1,1).clone().detach().cpu().numpy())\n",
    "                temp_acc += hits / len(loader.dataset)\n",
    "\n",
    "            DVIB_CE_eval.append(temp_ce)\n",
    "            DVIB_KL_eval.append(temp_kl)\n",
    "            DVIB_loss_eval.append(temp_loss)\n",
    "            DVIB_acc_eval.append(temp_acc)\n",
    "\n",
    "            if (epoch + 1) % report_rate == 0:\n",
    "                print('Epoch {:3d} || Train Loss : {:5.3f} || Val Loss : {:5.3f}'.format(epoch+1,DVIB_loss_train[-1],DVIB_loss_eval[-1]))\n",
    "                print('          || Train Accu : {:5.3f} || Val Accu : {:5.3f}'.format(DVIB_acc_train[-1], DVIB_acc_eval[-1]))\n",
    "\n",
    "\n",
    "\n",
    "        ## Scheduler\n",
    "        if (epoch + 1) % decay_rate == 0:\n",
    "            scheduler.step()\n",
    "\n",
    "    DVIBResults[beta] = {'model' : DVIBModel,\n",
    "                         'DVIB_CE_train' : DVIB_CE_train,\n",
    "                         'DVIB_CE_eval' : DVIB_CE_eval,\n",
    "                         'DVIB_KL_train' : DVIB_KL_train,\n",
    "                         'DVIB_KL_eval' : DVIB_KL_eval,\n",
    "                         'DVIB_loss_train' : DVIB_loss_train,\n",
    "                         'DVIB_loss_eval' : DVIB_loss_eval,\n",
    "                         'DVIB_acc_train' : DVIB_acc_train,\n",
    "                         'DVIB_acc_eval' : DVIB_acc_eval}"
   ]
  },
  {
   "cell_type": "code",
   "execution_count": 92,
   "metadata": {
    "colab": {
     "base_uri": "https://localhost:8080/",
     "height": 235
    },
    "id": "96csG8gh7FfJ",
    "outputId": "938b93f4-ce50-4d0c-ae24-5932f2b4229c"
   },
   "outputs": [
    {
     "data": {
      "image/png": "[encoded data removed]",
      "text/plain": [
       "<Figure size 432x432 with 1 Axes>"
      ]
     },
     "metadata": {
      "needs_background": "light"
     },
     "output_type": "display_data"
    }
   ],
   "source": [
    "fig = plt.figure(figsize=(6,6))\n",
    "ax = fig.add_subplot(111)\n",
    "\n",
    "epochs = np.arange(nEpochs) + 1\n",
    "\n",
    "ax.plot(epochs, MLP_acc_train, label='MLP - Train', c='C0', ls='-')\n",
    "ax.plot(epochs, MLP_acc_eval, label='MLP - Test', c='C0', ls='--')\n",
    "\n",
    "for i in range(len(betas)):\n",
    "    beta = betas[i]\n",
    "    ax.plot(epochs, DVIBResults[beta]['DVIB_acc_train'], \n",
    "            label=r'DVIB, $\\beta={}$ - Train'.format(beta), c=f'C{i+1}', ls='-')\n",
    "    ax.plot(epochs, DVIBResults[beta]['DVIB_acc_eval'], \n",
    "            label=r'DVIB, $\\beta={}$ - Test'.format(beta), c=f'C{i+1}', ls='--')\n",
    "\n",
    "ax.set_ylim(0,1.1)\n",
    "ax.set_xlabel('Epoch')\n",
    "ax.set_ylabel('Accuracy')\n",
    "ax.legend(labelspacing=0.1)\n",
    "plt.show()"
   ]
  },
  {
   "cell_type": "markdown",
   "metadata": {},
   "source": [
    "Primero notamos que tanto para los modelos DVIB con $\\beta \\in \\{0.001, 0.1\\}$ como la red MLP el *gap* de desempeño en términos de precisión es muy similar, mencionando además que los dos modelos estocásticos alcanzan un desempeño parecido, el cual varía suavemente a lo largo del entrenamiento. Por su lado, la red determinística ofrece una menor precisión y muestra una evolución escalonada, es decir que por momentos el algoritmo de gradiente descendente era incapaz de encontrar un \"camino\" a saguir en pos de mejorar el rendimiento.\n",
    "\n",
    "En el caso del modelo DVIB más restringido ($\\beta = 1$), vemos que no se ofrece evolución alguna en cuanto a precisión, demostrando que la red no aprendió nada durante el entrenamiento. Probablemente debido a que la restricción sobre la divergencia fue muy grande.\n",
    "\n",
    "En base a los modelos que lograron aprender, se podría establecer que la restricción sobre el espacio latente ayuda a estos a encontrar representaciones que capturen la relación estadística entre la entrada y la salida de mejor manera, de ahí la mejora general en desempeño, además de que acelerarlo al no quedarse estancados y progresar contínuamente en la tarea.\n",
    "\n",
    "Como último comentario, de estas curvas pareciera que no hay un grado importante de overfitting, en el sentido de que la *accuracy* sobre los datos de prueba se mantiene estable en relación a los de entrenamiento, sin empezar a deteriorarse estrepitosamente en algúin punto."
   ]
  },
  {
   "cell_type": "code",
   "execution_count": 56,
   "metadata": {
    "colab": {
     "base_uri": "https://localhost:8080/",
     "height": 405
    },
    "id": "mEIioQbyjXPQ",
    "outputId": "81a73c7d-1d0a-48c5-a732-3e6ec62baec2"
   },
   "outputs": [
    {
     "data": {
      "image/png": "[encoded data removed]",
      "text/plain": [
       "<Figure size 1296x432 with 3 Axes>"
      ]
     },
     "metadata": {
      "needs_background": "light"
     },
     "output_type": "display_data"
    }
   ],
   "source": [
    "fig = plt.figure(figsize=(18,6))\n",
    "epochs = np.arange(nEpochs) + 1\n",
    "\n",
    "\n",
    "\n",
    "ax = fig.add_subplot(131)\n",
    "\n",
    "ax.plot(epochs, MLP_loss_train, label='MLP - Train', c='C0', ls='-')\n",
    "ax.plot(epochs, MLP_loss_eval, label='MLP - Test', c='C0', ls='--')\n",
    "\n",
    "for i in range(len(betas)):\n",
    "    beta = betas[i]\n",
    "    ax.plot(epochs, DVIBResults[beta]['DVIB_CE_train'], \n",
    "            label=r'DVIB, $\\beta={}$ - Train'.format(beta), c=f'C{i+1}', ls='-')\n",
    "    ax.plot(epochs, DVIBResults[beta]['DVIB_CE_eval'], \n",
    "            label=r'DVIB, $\\beta={}$ - Test'.format(beta), c=f'C{i+1}', ls='--')\n",
    "\n",
    "ax.set_xlabel('Epoch')\n",
    "ax.set_ylabel('Cross-Entropy')\n",
    "ax.legend(labelspacing=0.1)\n",
    "\n",
    "\n",
    "\n",
    "ax = fig.add_subplot(132)\n",
    "for i in range(len(betas)):\n",
    "    beta = betas[i]\n",
    "    ax.plot(epochs, DVIBResults[beta]['DVIB_loss_train'], \n",
    "            label=r'DVIB, $\\beta={}$ - Train'.format(beta), c=f'C{i+1}', ls='-')\n",
    "    ax.plot(epochs, DVIBResults[beta]['DVIB_loss_eval'], \n",
    "            label=r'DVIB, $\\beta={}$ - Test'.format(beta), c=f'C{i+1}', ls='--')\n",
    "    \n",
    "ax.set_xlabel('Epoch')\n",
    "ax.set_ylabel('DVIB Loss')\n",
    "ax.legend(labelspacing=0.1)\n",
    "\n",
    "\n",
    "\n",
    "ax = fig.add_subplot(133)\n",
    "for i in range(len(betas)):\n",
    "    beta = betas[i]\n",
    "    ax.plot(epochs, DVIBResults[beta]['DVIB_KL_train'], \n",
    "            label=r'DVIB, $\\beta={}$ - Train'.format(beta), c=f'C{i+1}', ls='-')\n",
    "    ax.plot(epochs, DVIBResults[beta]['DVIB_KL_eval'], \n",
    "            label=r'DVIB, $\\beta={}$ - Test'.format(beta), c=f'C{i+1}', ls='--')\n",
    "    \n",
    "ax.set_xlabel('Epoch')\n",
    "ax.set_ylabel(r'KL Divergence to $r$')\n",
    "ax.legend(labelspacing=0.1)\n",
    "\n",
    "plt.show()"
   ]
  },
  {
   "cell_type": "markdown",
   "metadata": {},
   "source": [
    "No obstante, si miramos las curvas solamente de Cross-Entropy (o de Cross-Entropy para la MLP y la pérdida total para los modelos DVIB) se aprecia un claro sobreajuste en la red determinística, mientras que las estocásticas muestran un comportamiento similar al visto en el gráfico anterior, pero descendente en vez de ascendente.\n",
    "\n",
    "Notamos además que al ver el desempeño de esta manera se aprecian diferencias entre los modelos obtenidos para $\\beta \\in \\{ 0.001, 0.1\\}$, siendo el primero claramente superior, lo cual podríamos esperar que repercuta en las representaciones obtenidas ya que como vimos en precisión no hubo mayor diferencia. \n",
    "\n",
    "Por su parte el modelo entrenado con $\\beta = 1$ ofrece (nuevamente) la peor evolución, incluso más que la MLP.\n",
    "\n",
    "Si consideramos solamente la evolución de la divergencia se aprecia otra cosa interesante, lo cual podría servir para predecir en cierta medida el comportamento del modelo sobre el espacio latente: \n",
    "\n",
    "* Para $\\beta = 0.001$ podemos identificar dos etapas. La primera donde la divergencia empeora considerablemente para luego ir mejorando de a poco. Todo esto sin afectar en demasía a la función de loss total. Por lo tanto, el modelo dió prioridad a mejorar la predictibilidad y precisión (por medio de la Cross-Entropy) y ya alcanzando el 100% se enfocó en ajustar sus representaciones al prior. Luego, esperaríamos que el espacio latente obtenido por este modelo sea bastante flexible respecto al prior.\n",
    "\n",
    "* Para $\\beta = 1$ vemos que no hubo evolución alguna. Más aún, el valor de la divergencia es prácticamente cero, por lo que se esperaría que al codificar los datos todos se vieran como una misma Gaussiana, lo cual explicaría además el mal desempeño.\n",
    "\n",
    "* El modelo con $\\beta = 0.01$ muestra algo similar a un punto medio. Se ve que empeora levemente durante las primeras épocas y luego se mantiene estable durante el resto del entrenamiento. De lo cual esperaríamos que sus representaciones latentes se alejaron levemente del prior Gaussiano, solo lo suficiente como para que se vea reflejado en una ganancia en términos de de predicción.\n",
    "\n",
    "Cabe notar que en este caso particular (puede cambiar si se reinicia todo) el modelo con $\\beta=0.1$ y la MLP evolucionan de manera muy similar al principio del entrenamiento, pero luego esta última empieza a mostrar claras señales de sobreajuste, mientras que la primera muestra mejoras consistentes sobre ambos conjuntos de datos, lo cual indica nuevamente las buenas capacidades regularizadoras de la arquitectura DVIB."
   ]
  },
  {
   "cell_type": "code",
   "execution_count": 19,
   "metadata": {
    "id": "TN-0s_6JzzOP"
   },
   "outputs": [],
   "source": [
    "loader = val_loader_mnist\n",
    "batch = next(iter(loader))"
   ]
  },
  {
   "cell_type": "code",
   "execution_count": 66,
   "metadata": {
    "colab": {
     "base_uri": "https://localhost:8080/",
     "height": 369
    },
    "id": "iKNzs_8QlfN8",
    "outputId": "95af99cd-7269-4858-cff8-489c9a7b2a72"
   },
   "outputs": [
    {
     "data": {
      "image/png": "[encoded data removed]",
      "text/plain": [
       "<Figure size 1080x360 with 3 Axes>"
      ]
     },
     "metadata": {
      "needs_background": "light"
     },
     "output_type": "display_data"
    }
   ],
   "source": [
    "X = batch[0].reshape(-1, 784).to(device)\n",
    "y = batch[1].cpu().numpy()\n",
    "\n",
    "labels = np.unique(y)\n",
    "markers = ['o'] * len(labels)\n",
    "\n",
    "n_std = 3\n",
    "fig = plt.figure(figsize=(15,5))\n",
    "for i in range(len(betas)):\n",
    "    ax = fig.add_subplot(100 + 10*len(betas) + i+1)\n",
    "    model = DVIBResults[betas[i]]['model']\n",
    "    with torch.no_grad():\n",
    "        mus, stds = model.encoder(X)\n",
    "        mus, stds = mus.cpu().numpy(), stds.cpu().numpy()\n",
    "\n",
    "        for n in np.arange(len(y)):\n",
    "            ellipse = Ellipse((0,0), width=1, height=1, \n",
    "                              facecolor='none', edgecolor=f'C{y[n]}')\n",
    "            scale_x = stds[n,0] * n_std\n",
    "            scale_y = stds[n,1] * n_std\n",
    "\n",
    "            transf = plttransforms.Affine2D() \\\n",
    "                    .rotate_deg(45) \\\n",
    "                    .scale(scale_x, scale_y) \\\n",
    "                    .translate(mus[n,0], mus[n,1])\n",
    "\n",
    "            ellipse.set_transform(transf + ax.transData)\n",
    "            ax.add_patch(ellipse)\n",
    "\n",
    "\n",
    "\n",
    "        ax.set_title(r'$\\beta = {}$'.format(betas[i]))\n",
    "        ax.autoscale()\n",
    "\n",
    "    if i == 1:  \n",
    "        custom_lines = [Line2D([0], [0], color=f'C{label}', \n",
    "                               marker='o', markersize=5, linestyle='None') for label in labels]\n",
    "        ax.legend(custom_lines, labels, labelspacing=0.1, \n",
    "                  loc=\"lower center\", bbox_to_anchor=(0.5,-0.2),\n",
    "                  ncol=len(labels), columnspacing=0.1, handletextpad=0.05)\n",
    "        \n",
    "plt.show()"
   ]
  },
  {
   "cell_type": "markdown",
   "metadata": {},
   "source": [
    "Al graficar las representaciones obtenidas para un batch de datos vemos que nuestras predicción fueron bastante acertadas. \n",
    "\n",
    "Para $\\beta = 0.001$ se aprecia que los datos tienden a agruparse según su clase y en forma distribuida en torno al centro. Si bien cada clase/dato por sí solo difiere de lo que sería el prior $r=\\mathcal{N}(0,I)$, el efecto de esta regularización podría estarse viendo reflejado en el mismo hecho de que los clusters se encuentran distribuidos de manera relativamente homogénea en torno a la moda el prior.\n",
    "\n",
    "Para $\\beta = 0.1$ ocurre algo similar, pero con una concentración de clusters mucho mayor. De hecho se encuentran todos dentro del \"intervalo\" de confianza del prior, el clásico $\\pm 3\\sigma$ de una distribución Gaussiana con una confidencia del $99.7\\%$.\n",
    "\n",
    "Finalmente, para $\\beta = 1$ se tiene que cada cluster es prácticamente ídentico al otro, con una casi insignificante discrepancia respecto al prior (y entre ellos mismos).\n",
    "\n",
    "Al graficar además las \"regiones\" de confianza de $\\pm 3\\sigma$ en cada eje, vemos además que posiblemente el prior y el parámetro $\\beta$ también tuvieron un efecto. Se aprecia que en la medida que aumenta la restricción sobre la divergencia, la matriz de covarianza se va tornando más y más circular, es decir que tiende a la matriz identidad $I$. O sea que cada punto en el espacio latente va tendiendo de a poco al prior, tanto en media como en covarianza."
   ]
  },
  {
   "cell_type": "code",
   "execution_count": 90,
   "metadata": {},
   "outputs": [
    {
     "data": {
      "image/png": "[encoded data removed]",
      "text/plain": [
       "<Figure size 720x360 with 2 Axes>"
      ]
     },
     "metadata": {
      "needs_background": "light"
     },
     "output_type": "display_data"
    }
   ],
   "source": [
    "fig = plt.figure(figsize=(10,5))\n",
    "ax1 = fig.add_subplot(121)\n",
    "ax2 = fig.add_subplot(122)\n",
    "with torch.no_grad():\n",
    "    model = baselineMLP\n",
    "    x = X\n",
    "    for i in range(len(baselineMLP.fc) - 3):\n",
    "        x = baselineMLP.fc[i](x)\n",
    "    mus = x.cpu().numpy()\n",
    "    relu_mus = baselineMLP.fc[i+1](x).cpu().numpy()\n",
    "    for label in labels:\n",
    "        idxs = np.where(y==label)\n",
    "        ax1.scatter(mus[idxs,0], mus[idxs,1], \n",
    "                   c=f'C{label}', s=6, label=label)\n",
    "        ax2.scatter(relu_mus[idxs,0], relu_mus[idxs,1], \n",
    "                   c=f'C{label}', s=6)\n",
    "\n",
    "ax1.set_title(\"\\\"Encoding\\\" before ReLU()\")\n",
    "ax2.set_title(\"\\\"Encoding\\\" after ReLU()\")\n",
    "ax1.legend(loc=\"lower left\", bbox_to_anchor=(0.5,-0.2),\n",
    "           ncol=len(labels), columnspacing=0.1, handletextpad=0.05)\n",
    "\n",
    "plt.show()"
   ]
  },
  {
   "cell_type": "markdown",
   "metadata": {},
   "source": [
    "Finalmente (y como extra) vemos que, como cabría de esperar, las \"representaciones\" obtenidas por la red MLP distan mucho de las obtenidas con los modelos estocásticos, al no encontrarse restringidas en cuanto a su distribución en el espacio más que por el requisito de que a la salida de la red se obtenga una buena precisión.\n",
    "\n",
    "Resulta interesante además que a la salida de la capa de \"*encoder*\" se mantiene una relativamente buena distribución de los datos, en el sentido de que pareciera que no es muy difícil encontrar hiperplanos que separen una clase de otra en este espacio bidimensional (teniendo en cuenta como funciona una neurona de este tipo de modelos), al menos para los números 0,1,3,8,9, pareciendo los restantes un poco más difíciles de discernir debido a su traslape y cercanía.\n",
    "\n",
    "No obstante, al aplicar la función de activación ReLU pareciera que se pierde un poco esta capacidad, ya que muchos datos se agrupan en el origen. Esto podría explicar por qué este modelo ofreció finalmente un desempeño algo peor que los estocásticos con una restricción relativamente pequeña."
   ]
  },
  {
   "cell_type": "code",
   "execution_count": 91,
   "metadata": {},
   "outputs": [],
   "source": [
    "X.cpu()\n",
    "baselineMLP.cpu()\n",
    "for beta in betas:\n",
    "    DVIBResults[beta]['model'].cpu()\n",
    "    \n",
    "# baselineMLP.cuda()\n",
    "# for beta in betas:\n",
    "#     DVIBResults[beta]['model'].cuda()"
   ]
  }
 ],
 "metadata": {
  "accelerator": "GPU",
  "colab": {
   "collapsed_sections": [
    "NSylmCtHBkm1",
    "AyTlH97DCqcL",
    "2ZJsl7U7FF4f",
    "MZlt0N1pXvHy",
    "4aqr6NMmX1KZ",
    "7nJ03P_PYH9R",
    "sKmAfMHR-cdm",
    "zYlIjkWsbXXD",
    "TBxDD99abiUT"
   ],
   "name": "DVIB.ipynb",
   "provenance": []
  },
  "gpuClass": "standard",
  "kernelspec": {
   "display_name": "Python 3",
   "language": "python",
   "name": "python3"
  },
  "language_info": {
   "codemirror_mode": {
    "name": "ipython",
    "version": 3
   },
   "file_extension": ".py",
   "mimetype": "text/x-python",
   "name": "python",
   "nbconvert_exporter": "python",
   "pygments_lexer": "ipython3",
   "version": "3.7.4"
  },
  "widgets": {
   "application/vnd.jupyter.widget-state+json": {
    "05842dc93c4840b8bed2b67522105376": {
     "model_module": "@jupyter-widgets/controls",
     "model_module_version": "1.5.0",
     "model_name": "HBoxModel",
     "state": {
      "_dom_classes": [],
      "_model_module": "@jupyter-widgets/controls",
      "_model_module_version": "1.5.0",
      "_model_name": "HBoxModel",
      "_view_count": null,
      "_view_module": "@jupyter-widgets/controls",
      "_view_module_version": "1.5.0",
      "_view_name": "HBoxView",
      "box_style": "",
      "children": [
       "IPY_MODEL_cd27e891c970413f8cf5d5957fecbe7d",
       "IPY_MODEL_ad858dd47b21440d974b928588f08184",
       "IPY_MODEL_0dce8674411a434dbf6c90c82eebfb68"
      ],
      "layout": "IPY_MODEL_a4b27774f78a40c48c513aca89243cda"
     }
    },
    "096230ff467740f6a8c7f4534a3f0542": {
     "model_module": "@jupyter-widgets/controls",
     "model_module_version": "1.5.0",
     "model_name": "HTMLModel",
     "state": {
      "_dom_classes": [],
      "_model_module": "@jupyter-widgets/controls",
      "_model_module_version": "1.5.0",
      "_model_name": "HTMLModel",
      "_view_count": null,
      "_view_module": "@jupyter-widgets/controls",
      "_view_module_version": "1.5.0",
      "_view_name": "HTMLView",
      "description": "",
      "description_tooltip": null,
      "layout": "IPY_MODEL_3bf785583d444a008fa0cdab21fecad9",
      "placeholder": "​",
      "style": "IPY_MODEL_57e5b19ea3ca42cbafb97477af025bfd",
      "value": " 9913344/? [00:00&lt;00:00, 72996504.65it/s]"
     }
    },
    "0dce8674411a434dbf6c90c82eebfb68": {
     "model_module": "@jupyter-widgets/controls",
     "model_module_version": "1.5.0",
     "model_name": "HTMLModel",
     "state": {
      "_dom_classes": [],
      "_model_module": "@jupyter-widgets/controls",
      "_model_module_version": "1.5.0",
      "_model_name": "HTMLModel",
      "_view_count": null,
      "_view_module": "@jupyter-widgets/controls",
      "_view_module_version": "1.5.0",
      "_view_name": "HTMLView",
      "description": "",
      "description_tooltip": null,
      "layout": "IPY_MODEL_a2d3620b2d9643e68e6253977ea1692f",
      "placeholder": "​",
      "style": "IPY_MODEL_88e0ec49da044e49a7a4b1716400f315",
      "value": " 29696/? [00:00&lt;00:00, 924334.33it/s]"
     }
    },
    "10df33fbbabc45db87e38531d7f49bf0": {
     "model_module": "@jupyter-widgets/base",
     "model_module_version": "1.2.0",
     "model_name": "LayoutModel",
     "state": {
      "_model_module": "@jupyter-widgets/base",
      "_model_module_version": "1.2.0",
      "_model_name": "LayoutModel",
      "_view_count": null,
      "_view_module": "@jupyter-widgets/base",
      "_view_module_version": "1.2.0",
      "_view_name": "LayoutView",
      "align_content": null,
      "align_items": null,
      "align_self": null,
      "border": null,
      "bottom": null,
      "display": null,
      "flex": null,
      "flex_flow": null,
      "grid_area": null,
      "grid_auto_columns": null,
      "grid_auto_flow": null,
      "grid_auto_rows": null,
      "grid_column": null,
      "grid_gap": null,
      "grid_row": null,
      "grid_template_areas": null,
      "grid_template_columns": null,
      "grid_template_rows": null,
      "height": null,
      "justify_content": null,
      "justify_items": null,
      "left": null,
      "margin": null,
      "max_height": null,
      "max_width": null,
      "min_height": null,
      "min_width": null,
      "object_fit": null,
      "object_position": null,
      "order": null,
      "overflow": null,
      "overflow_x": null,
      "overflow_y": null,
      "padding": null,
      "right": null,
      "top": null,
      "visibility": null,
      "width": null
     }
    },
    "26791144c69544648feca0578f425db8": {
     "model_module": "@jupyter-widgets/controls",
     "model_module_version": "1.5.0",
     "model_name": "HBoxModel",
     "state": {
      "_dom_classes": [],
      "_model_module": "@jupyter-widgets/controls",
      "_model_module_version": "1.5.0",
      "_model_name": "HBoxModel",
      "_view_count": null,
      "_view_module": "@jupyter-widgets/controls",
      "_view_module_version": "1.5.0",
      "_view_name": "HBoxView",
      "box_style": "",
      "children": [
       "IPY_MODEL_f9771d16e5904990ab2141078e6531c8",
       "IPY_MODEL_db27109410804be6bb28e4c40407859d",
       "IPY_MODEL_3011c89cc1c442e1b91690865b8cc4d7"
      ],
      "layout": "IPY_MODEL_c86266e412ea47d09a7290b490933f7b"
     }
    },
    "29b2f3cd26c04d3a9fbb42fecfc44b14": {
     "model_module": "@jupyter-widgets/base",
     "model_module_version": "1.2.0",
     "model_name": "LayoutModel",
     "state": {
      "_model_module": "@jupyter-widgets/base",
      "_model_module_version": "1.2.0",
      "_model_name": "LayoutModel",
      "_view_count": null,
      "_view_module": "@jupyter-widgets/base",
      "_view_module_version": "1.2.0",
      "_view_name": "LayoutView",
      "align_content": null,
      "align_items": null,
      "align_self": null,
      "border": null,
      "bottom": null,
      "display": null,
      "flex": null,
      "flex_flow": null,
      "grid_area": null,
      "grid_auto_columns": null,
      "grid_auto_flow": null,
      "grid_auto_rows": null,
      "grid_column": null,
      "grid_gap": null,
      "grid_row": null,
      "grid_template_areas": null,
      "grid_template_columns": null,
      "grid_template_rows": null,
      "height": null,
      "justify_content": null,
      "justify_items": null,
      "left": null,
      "margin": null,
      "max_height": null,
      "max_width": null,
      "min_height": null,
      "min_width": null,
      "object_fit": null,
      "object_position": null,
      "order": null,
      "overflow": null,
      "overflow_x": null,
      "overflow_y": null,
      "padding": null,
      "right": null,
      "top": null,
      "visibility": null,
      "width": null
     }
    },
    "29c09c7f06684370b007cf36188b6e2e": {
     "model_module": "@jupyter-widgets/base",
     "model_module_version": "1.2.0",
     "model_name": "LayoutModel",
     "state": {
      "_model_module": "@jupyter-widgets/base",
      "_model_module_version": "1.2.0",
      "_model_name": "LayoutModel",
      "_view_count": null,
      "_view_module": "@jupyter-widgets/base",
      "_view_module_version": "1.2.0",
      "_view_name": "LayoutView",
      "align_content": null,
      "align_items": null,
      "align_self": null,
      "border": null,
      "bottom": null,
      "display": null,
      "flex": null,
      "flex_flow": null,
      "grid_area": null,
      "grid_auto_columns": null,
      "grid_auto_flow": null,
      "grid_auto_rows": null,
      "grid_column": null,
      "grid_gap": null,
      "grid_row": null,
      "grid_template_areas": null,
      "grid_template_columns": null,
      "grid_template_rows": null,
      "height": null,
      "justify_content": null,
      "justify_items": null,
      "left": null,
      "margin": null,
      "max_height": null,
      "max_width": null,
      "min_height": null,
      "min_width": null,
      "object_fit": null,
      "object_position": null,
      "order": null,
      "overflow": null,
      "overflow_x": null,
      "overflow_y": null,
      "padding": null,
      "right": null,
      "top": null,
      "visibility": null,
      "width": null
     }
    },
    "2b2bd4304226486ebc2ca59d04280449": {
     "model_module": "@jupyter-widgets/controls",
     "model_module_version": "1.5.0",
     "model_name": "ProgressStyleModel",
     "state": {
      "_model_module": "@jupyter-widgets/controls",
      "_model_module_version": "1.5.0",
      "_model_name": "ProgressStyleModel",
      "_view_count": null,
      "_view_module": "@jupyter-widgets/base",
      "_view_module_version": "1.2.0",
      "_view_name": "StyleView",
      "bar_color": null,
      "description_width": ""
     }
    },
    "2b9bddf074664f26a18c0dc5bc70ef79": {
     "model_module": "@jupyter-widgets/base",
     "model_module_version": "1.2.0",
     "model_name": "LayoutModel",
     "state": {
      "_model_module": "@jupyter-widgets/base",
      "_model_module_version": "1.2.0",
      "_model_name": "LayoutModel",
      "_view_count": null,
      "_view_module": "@jupyter-widgets/base",
      "_view_module_version": "1.2.0",
      "_view_name": "LayoutView",
      "align_content": null,
      "align_items": null,
      "align_self": null,
      "border": null,
      "bottom": null,
      "display": null,
      "flex": null,
      "flex_flow": null,
      "grid_area": null,
      "grid_auto_columns": null,
      "grid_auto_flow": null,
      "grid_auto_rows": null,
      "grid_column": null,
      "grid_gap": null,
      "grid_row": null,
      "grid_template_areas": null,
      "grid_template_columns": null,
      "grid_template_rows": null,
      "height": null,
      "justify_content": null,
      "justify_items": null,
      "left": null,
      "margin": null,
      "max_height": null,
      "max_width": null,
      "min_height": null,
      "min_width": null,
      "object_fit": null,
      "object_position": null,
      "order": null,
      "overflow": null,
      "overflow_x": null,
      "overflow_y": null,
      "padding": null,
      "right": null,
      "top": null,
      "visibility": null,
      "width": null
     }
    },
    "3011c89cc1c442e1b91690865b8cc4d7": {
     "model_module": "@jupyter-widgets/controls",
     "model_module_version": "1.5.0",
     "model_name": "HTMLModel",
     "state": {
      "_dom_classes": [],
      "_model_module": "@jupyter-widgets/controls",
      "_model_module_version": "1.5.0",
      "_model_name": "HTMLModel",
      "_view_count": null,
      "_view_module": "@jupyter-widgets/controls",
      "_view_module_version": "1.5.0",
      "_view_name": "HTMLView",
      "description": "",
      "description_tooltip": null,
      "layout": "IPY_MODEL_5e071edb89cc4599b853bdd136b99ddc",
      "placeholder": "​",
      "style": "IPY_MODEL_9ebff45abd3e43758acac73aedb1df71",
      "value": " 1649664/? [00:00&lt;00:00, 29176561.21it/s]"
     }
    },
    "30e91ebbeb8e4a40b44da1ebac4c6b6e": {
     "model_module": "@jupyter-widgets/base",
     "model_module_version": "1.2.0",
     "model_name": "LayoutModel",
     "state": {
      "_model_module": "@jupyter-widgets/base",
      "_model_module_version": "1.2.0",
      "_model_name": "LayoutModel",
      "_view_count": null,
      "_view_module": "@jupyter-widgets/base",
      "_view_module_version": "1.2.0",
      "_view_name": "LayoutView",
      "align_content": null,
      "align_items": null,
      "align_self": null,
      "border": null,
      "bottom": null,
      "display": null,
      "flex": null,
      "flex_flow": null,
      "grid_area": null,
      "grid_auto_columns": null,
      "grid_auto_flow": null,
      "grid_auto_rows": null,
      "grid_column": null,
      "grid_gap": null,
      "grid_row": null,
      "grid_template_areas": null,
      "grid_template_columns": null,
      "grid_template_rows": null,
      "height": null,
      "justify_content": null,
      "justify_items": null,
      "left": null,
      "margin": null,
      "max_height": null,
      "max_width": null,
      "min_height": null,
      "min_width": null,
      "object_fit": null,
      "object_position": null,
      "order": null,
      "overflow": null,
      "overflow_x": null,
      "overflow_y": null,
      "padding": null,
      "right": null,
      "top": null,
      "visibility": null,
      "width": null
     }
    },
    "3bf785583d444a008fa0cdab21fecad9": {
     "model_module": "@jupyter-widgets/base",
     "model_module_version": "1.2.0",
     "model_name": "LayoutModel",
     "state": {
      "_model_module": "@jupyter-widgets/base",
      "_model_module_version": "1.2.0",
      "_model_name": "LayoutModel",
      "_view_count": null,
      "_view_module": "@jupyter-widgets/base",
      "_view_module_version": "1.2.0",
      "_view_name": "LayoutView",
      "align_content": null,
      "align_items": null,
      "align_self": null,
      "border": null,
      "bottom": null,
      "display": null,
      "flex": null,
      "flex_flow": null,
      "grid_area": null,
      "grid_auto_columns": null,
      "grid_auto_flow": null,
      "grid_auto_rows": null,
      "grid_column": null,
      "grid_gap": null,
      "grid_row": null,
      "grid_template_areas": null,
      "grid_template_columns": null,
      "grid_template_rows": null,
      "height": null,
      "justify_content": null,
      "justify_items": null,
      "left": null,
      "margin": null,
      "max_height": null,
      "max_width": null,
      "min_height": null,
      "min_width": null,
      "object_fit": null,
      "object_position": null,
      "order": null,
      "overflow": null,
      "overflow_x": null,
      "overflow_y": null,
      "padding": null,
      "right": null,
      "top": null,
      "visibility": null,
      "width": null
     }
    },
    "4613116ed474450089852b504652c853": {
     "model_module": "@jupyter-widgets/controls",
     "model_module_version": "1.5.0",
     "model_name": "ProgressStyleModel",
     "state": {
      "_model_module": "@jupyter-widgets/controls",
      "_model_module_version": "1.5.0",
      "_model_name": "ProgressStyleModel",
      "_view_count": null,
      "_view_module": "@jupyter-widgets/base",
      "_view_module_version": "1.2.0",
      "_view_name": "StyleView",
      "bar_color": null,
      "description_width": ""
     }
    },
    "48f14df8690a49b5b0182160eef13924": {
     "model_module": "@jupyter-widgets/controls",
     "model_module_version": "1.5.0",
     "model_name": "FloatProgressModel",
     "state": {
      "_dom_classes": [],
      "_model_module": "@jupyter-widgets/controls",
      "_model_module_version": "1.5.0",
      "_model_name": "FloatProgressModel",
      "_view_count": null,
      "_view_module": "@jupyter-widgets/controls",
      "_view_module_version": "1.5.0",
      "_view_name": "ProgressView",
      "bar_style": "success",
      "description": "",
      "description_tooltip": null,
      "layout": "IPY_MODEL_cf157e2b8f67418c971192bf2f612335",
      "max": 4542,
      "min": 0,
      "orientation": "horizontal",
      "style": "IPY_MODEL_b0f3b79097ac41e5bcde84276bf8a5c4",
      "value": 4542
     }
    },
    "505c8aac35724806b3c0630db91bc176": {
     "model_module": "@jupyter-widgets/controls",
     "model_module_version": "1.5.0",
     "model_name": "FloatProgressModel",
     "state": {
      "_dom_classes": [],
      "_model_module": "@jupyter-widgets/controls",
      "_model_module_version": "1.5.0",
      "_model_name": "FloatProgressModel",
      "_view_count": null,
      "_view_module": "@jupyter-widgets/controls",
      "_view_module_version": "1.5.0",
      "_view_name": "ProgressView",
      "bar_style": "success",
      "description": "",
      "description_tooltip": null,
      "layout": "IPY_MODEL_2b9bddf074664f26a18c0dc5bc70ef79",
      "max": 9912422,
      "min": 0,
      "orientation": "horizontal",
      "style": "IPY_MODEL_2b2bd4304226486ebc2ca59d04280449",
      "value": 9912422
     }
    },
    "57e5b19ea3ca42cbafb97477af025bfd": {
     "model_module": "@jupyter-widgets/controls",
     "model_module_version": "1.5.0",
     "model_name": "DescriptionStyleModel",
     "state": {
      "_model_module": "@jupyter-widgets/controls",
      "_model_module_version": "1.5.0",
      "_model_name": "DescriptionStyleModel",
      "_view_count": null,
      "_view_module": "@jupyter-widgets/base",
      "_view_module_version": "1.2.0",
      "_view_name": "StyleView",
      "description_width": ""
     }
    },
    "5e071edb89cc4599b853bdd136b99ddc": {
     "model_module": "@jupyter-widgets/base",
     "model_module_version": "1.2.0",
     "model_name": "LayoutModel",
     "state": {
      "_model_module": "@jupyter-widgets/base",
      "_model_module_version": "1.2.0",
      "_model_name": "LayoutModel",
      "_view_count": null,
      "_view_module": "@jupyter-widgets/base",
      "_view_module_version": "1.2.0",
      "_view_name": "LayoutView",
      "align_content": null,
      "align_items": null,
      "align_self": null,
      "border": null,
      "bottom": null,
      "display": null,
      "flex": null,
      "flex_flow": null,
      "grid_area": null,
      "grid_auto_columns": null,
      "grid_auto_flow": null,
      "grid_auto_rows": null,
      "grid_column": null,
      "grid_gap": null,
      "grid_row": null,
      "grid_template_areas": null,
      "grid_template_columns": null,
      "grid_template_rows": null,
      "height": null,
      "justify_content": null,
      "justify_items": null,
      "left": null,
      "margin": null,
      "max_height": null,
      "max_width": null,
      "min_height": null,
      "min_width": null,
      "object_fit": null,
      "object_position": null,
      "order": null,
      "overflow": null,
      "overflow_x": null,
      "overflow_y": null,
      "padding": null,
      "right": null,
      "top": null,
      "visibility": null,
      "width": null
     }
    },
    "6d4101c98d52401ab8bf3bbe9f449e03": {
     "model_module": "@jupyter-widgets/controls",
     "model_module_version": "1.5.0",
     "model_name": "ProgressStyleModel",
     "state": {
      "_model_module": "@jupyter-widgets/controls",
      "_model_module_version": "1.5.0",
      "_model_name": "ProgressStyleModel",
      "_view_count": null,
      "_view_module": "@jupyter-widgets/base",
      "_view_module_version": "1.2.0",
      "_view_name": "StyleView",
      "bar_color": null,
      "description_width": ""
     }
    },
    "7a449733ea5a4264be7f7fc97d4e6a11": {
     "model_module": "@jupyter-widgets/controls",
     "model_module_version": "1.5.0",
     "model_name": "HBoxModel",
     "state": {
      "_dom_classes": [],
      "_model_module": "@jupyter-widgets/controls",
      "_model_module_version": "1.5.0",
      "_model_name": "HBoxModel",
      "_view_count": null,
      "_view_module": "@jupyter-widgets/controls",
      "_view_module_version": "1.5.0",
      "_view_name": "HBoxView",
      "box_style": "",
      "children": [
       "IPY_MODEL_99e19746bef74b6f828bae3d17e56418",
       "IPY_MODEL_505c8aac35724806b3c0630db91bc176",
       "IPY_MODEL_096230ff467740f6a8c7f4534a3f0542"
      ],
      "layout": "IPY_MODEL_29c09c7f06684370b007cf36188b6e2e"
     }
    },
    "88e0ec49da044e49a7a4b1716400f315": {
     "model_module": "@jupyter-widgets/controls",
     "model_module_version": "1.5.0",
     "model_name": "DescriptionStyleModel",
     "state": {
      "_model_module": "@jupyter-widgets/controls",
      "_model_module_version": "1.5.0",
      "_model_name": "DescriptionStyleModel",
      "_view_count": null,
      "_view_module": "@jupyter-widgets/base",
      "_view_module_version": "1.2.0",
      "_view_name": "StyleView",
      "description_width": ""
     }
    },
    "8f85912d1f134940beea3d5e39c2e001": {
     "model_module": "@jupyter-widgets/base",
     "model_module_version": "1.2.0",
     "model_name": "LayoutModel",
     "state": {
      "_model_module": "@jupyter-widgets/base",
      "_model_module_version": "1.2.0",
      "_model_name": "LayoutModel",
      "_view_count": null,
      "_view_module": "@jupyter-widgets/base",
      "_view_module_version": "1.2.0",
      "_view_name": "LayoutView",
      "align_content": null,
      "align_items": null,
      "align_self": null,
      "border": null,
      "bottom": null,
      "display": null,
      "flex": null,
      "flex_flow": null,
      "grid_area": null,
      "grid_auto_columns": null,
      "grid_auto_flow": null,
      "grid_auto_rows": null,
      "grid_column": null,
      "grid_gap": null,
      "grid_row": null,
      "grid_template_areas": null,
      "grid_template_columns": null,
      "grid_template_rows": null,
      "height": null,
      "justify_content": null,
      "justify_items": null,
      "left": null,
      "margin": null,
      "max_height": null,
      "max_width": null,
      "min_height": null,
      "min_width": null,
      "object_fit": null,
      "object_position": null,
      "order": null,
      "overflow": null,
      "overflow_x": null,
      "overflow_y": null,
      "padding": null,
      "right": null,
      "top": null,
      "visibility": null,
      "width": null
     }
    },
    "949b197dc90848fc93ae8282d7e8a52a": {
     "model_module": "@jupyter-widgets/base",
     "model_module_version": "1.2.0",
     "model_name": "LayoutModel",
     "state": {
      "_model_module": "@jupyter-widgets/base",
      "_model_module_version": "1.2.0",
      "_model_name": "LayoutModel",
      "_view_count": null,
      "_view_module": "@jupyter-widgets/base",
      "_view_module_version": "1.2.0",
      "_view_name": "LayoutView",
      "align_content": null,
      "align_items": null,
      "align_self": null,
      "border": null,
      "bottom": null,
      "display": null,
      "flex": null,
      "flex_flow": null,
      "grid_area": null,
      "grid_auto_columns": null,
      "grid_auto_flow": null,
      "grid_auto_rows": null,
      "grid_column": null,
      "grid_gap": null,
      "grid_row": null,
      "grid_template_areas": null,
      "grid_template_columns": null,
      "grid_template_rows": null,
      "height": null,
      "justify_content": null,
      "justify_items": null,
      "left": null,
      "margin": null,
      "max_height": null,
      "max_width": null,
      "min_height": null,
      "min_width": null,
      "object_fit": null,
      "object_position": null,
      "order": null,
      "overflow": null,
      "overflow_x": null,
      "overflow_y": null,
      "padding": null,
      "right": null,
      "top": null,
      "visibility": null,
      "width": null
     }
    },
    "99e19746bef74b6f828bae3d17e56418": {
     "model_module": "@jupyter-widgets/controls",
     "model_module_version": "1.5.0",
     "model_name": "HTMLModel",
     "state": {
      "_dom_classes": [],
      "_model_module": "@jupyter-widgets/controls",
      "_model_module_version": "1.5.0",
      "_model_name": "HTMLModel",
      "_view_count": null,
      "_view_module": "@jupyter-widgets/controls",
      "_view_module_version": "1.5.0",
      "_view_name": "HTMLView",
      "description": "",
      "description_tooltip": null,
      "layout": "IPY_MODEL_a4a6aac8de7c4b1ca271295fde4c1f3d",
      "placeholder": "​",
      "style": "IPY_MODEL_ecc787722c604a0485eca5b847d6ac17",
      "value": ""
     }
    },
    "9ebff45abd3e43758acac73aedb1df71": {
     "model_module": "@jupyter-widgets/controls",
     "model_module_version": "1.5.0",
     "model_name": "DescriptionStyleModel",
     "state": {
      "_model_module": "@jupyter-widgets/controls",
      "_model_module_version": "1.5.0",
      "_model_name": "DescriptionStyleModel",
      "_view_count": null,
      "_view_module": "@jupyter-widgets/base",
      "_view_module_version": "1.2.0",
      "_view_name": "StyleView",
      "description_width": ""
     }
    },
    "a1dcb29752a1495786790222603771e7": {
     "model_module": "@jupyter-widgets/controls",
     "model_module_version": "1.5.0",
     "model_name": "DescriptionStyleModel",
     "state": {
      "_model_module": "@jupyter-widgets/controls",
      "_model_module_version": "1.5.0",
      "_model_name": "DescriptionStyleModel",
      "_view_count": null,
      "_view_module": "@jupyter-widgets/base",
      "_view_module_version": "1.2.0",
      "_view_name": "StyleView",
      "description_width": ""
     }
    },
    "a2d3620b2d9643e68e6253977ea1692f": {
     "model_module": "@jupyter-widgets/base",
     "model_module_version": "1.2.0",
     "model_name": "LayoutModel",
     "state": {
      "_model_module": "@jupyter-widgets/base",
      "_model_module_version": "1.2.0",
      "_model_name": "LayoutModel",
      "_view_count": null,
      "_view_module": "@jupyter-widgets/base",
      "_view_module_version": "1.2.0",
      "_view_name": "LayoutView",
      "align_content": null,
      "align_items": null,
      "align_self": null,
      "border": null,
      "bottom": null,
      "display": null,
      "flex": null,
      "flex_flow": null,
      "grid_area": null,
      "grid_auto_columns": null,
      "grid_auto_flow": null,
      "grid_auto_rows": null,
      "grid_column": null,
      "grid_gap": null,
      "grid_row": null,
      "grid_template_areas": null,
      "grid_template_columns": null,
      "grid_template_rows": null,
      "height": null,
      "justify_content": null,
      "justify_items": null,
      "left": null,
      "margin": null,
      "max_height": null,
      "max_width": null,
      "min_height": null,
      "min_width": null,
      "object_fit": null,
      "object_position": null,
      "order": null,
      "overflow": null,
      "overflow_x": null,
      "overflow_y": null,
      "padding": null,
      "right": null,
      "top": null,
      "visibility": null,
      "width": null
     }
    },
    "a4a6aac8de7c4b1ca271295fde4c1f3d": {
     "model_module": "@jupyter-widgets/base",
     "model_module_version": "1.2.0",
     "model_name": "LayoutModel",
     "state": {
      "_model_module": "@jupyter-widgets/base",
      "_model_module_version": "1.2.0",
      "_model_name": "LayoutModel",
      "_view_count": null,
      "_view_module": "@jupyter-widgets/base",
      "_view_module_version": "1.2.0",
      "_view_name": "LayoutView",
      "align_content": null,
      "align_items": null,
      "align_self": null,
      "border": null,
      "bottom": null,
      "display": null,
      "flex": null,
      "flex_flow": null,
      "grid_area": null,
      "grid_auto_columns": null,
      "grid_auto_flow": null,
      "grid_auto_rows": null,
      "grid_column": null,
      "grid_gap": null,
      "grid_row": null,
      "grid_template_areas": null,
      "grid_template_columns": null,
      "grid_template_rows": null,
      "height": null,
      "justify_content": null,
      "justify_items": null,
      "left": null,
      "margin": null,
      "max_height": null,
      "max_width": null,
      "min_height": null,
      "min_width": null,
      "object_fit": null,
      "object_position": null,
      "order": null,
      "overflow": null,
      "overflow_x": null,
      "overflow_y": null,
      "padding": null,
      "right": null,
      "top": null,
      "visibility": null,
      "width": null
     }
    },
    "a4b27774f78a40c48c513aca89243cda": {
     "model_module": "@jupyter-widgets/base",
     "model_module_version": "1.2.0",
     "model_name": "LayoutModel",
     "state": {
      "_model_module": "@jupyter-widgets/base",
      "_model_module_version": "1.2.0",
      "_model_name": "LayoutModel",
      "_view_count": null,
      "_view_module": "@jupyter-widgets/base",
      "_view_module_version": "1.2.0",
      "_view_name": "LayoutView",
      "align_content": null,
      "align_items": null,
      "align_self": null,
      "border": null,
      "bottom": null,
      "display": null,
      "flex": null,
      "flex_flow": null,
      "grid_area": null,
      "grid_auto_columns": null,
      "grid_auto_flow": null,
      "grid_auto_rows": null,
      "grid_column": null,
      "grid_gap": null,
      "grid_row": null,
      "grid_template_areas": null,
      "grid_template_columns": null,
      "grid_template_rows": null,
      "height": null,
      "justify_content": null,
      "justify_items": null,
      "left": null,
      "margin": null,
      "max_height": null,
      "max_width": null,
      "min_height": null,
      "min_width": null,
      "object_fit": null,
      "object_position": null,
      "order": null,
      "overflow": null,
      "overflow_x": null,
      "overflow_y": null,
      "padding": null,
      "right": null,
      "top": null,
      "visibility": null,
      "width": null
     }
    },
    "ad720514afe342e59f81f0471455fe62": {
     "model_module": "@jupyter-widgets/controls",
     "model_module_version": "1.5.0",
     "model_name": "HBoxModel",
     "state": {
      "_dom_classes": [],
      "_model_module": "@jupyter-widgets/controls",
      "_model_module_version": "1.5.0",
      "_model_name": "HBoxModel",
      "_view_count": null,
      "_view_module": "@jupyter-widgets/controls",
      "_view_module_version": "1.5.0",
      "_view_name": "HBoxView",
      "box_style": "",
      "children": [
       "IPY_MODEL_dbe27268716443179e6f95d94572e96f",
       "IPY_MODEL_48f14df8690a49b5b0182160eef13924",
       "IPY_MODEL_b709c6764f7a461398f503770d06d5aa"
      ],
      "layout": "IPY_MODEL_949b197dc90848fc93ae8282d7e8a52a"
     }
    },
    "ad858dd47b21440d974b928588f08184": {
     "model_module": "@jupyter-widgets/controls",
     "model_module_version": "1.5.0",
     "model_name": "FloatProgressModel",
     "state": {
      "_dom_classes": [],
      "_model_module": "@jupyter-widgets/controls",
      "_model_module_version": "1.5.0",
      "_model_name": "FloatProgressModel",
      "_view_count": null,
      "_view_module": "@jupyter-widgets/controls",
      "_view_module_version": "1.5.0",
      "_view_name": "ProgressView",
      "bar_style": "success",
      "description": "",
      "description_tooltip": null,
      "layout": "IPY_MODEL_10df33fbbabc45db87e38531d7f49bf0",
      "max": 28881,
      "min": 0,
      "orientation": "horizontal",
      "style": "IPY_MODEL_4613116ed474450089852b504652c853",
      "value": 28881
     }
    },
    "b0f3b79097ac41e5bcde84276bf8a5c4": {
     "model_module": "@jupyter-widgets/controls",
     "model_module_version": "1.5.0",
     "model_name": "ProgressStyleModel",
     "state": {
      "_model_module": "@jupyter-widgets/controls",
      "_model_module_version": "1.5.0",
      "_model_name": "ProgressStyleModel",
      "_view_count": null,
      "_view_module": "@jupyter-widgets/base",
      "_view_module_version": "1.2.0",
      "_view_name": "StyleView",
      "bar_color": null,
      "description_width": ""
     }
    },
    "b6cabb4e551c435883f872c6c7220ec7": {
     "model_module": "@jupyter-widgets/controls",
     "model_module_version": "1.5.0",
     "model_name": "DescriptionStyleModel",
     "state": {
      "_model_module": "@jupyter-widgets/controls",
      "_model_module_version": "1.5.0",
      "_model_name": "DescriptionStyleModel",
      "_view_count": null,
      "_view_module": "@jupyter-widgets/base",
      "_view_module_version": "1.2.0",
      "_view_name": "StyleView",
      "description_width": ""
     }
    },
    "b709c6764f7a461398f503770d06d5aa": {
     "model_module": "@jupyter-widgets/controls",
     "model_module_version": "1.5.0",
     "model_name": "HTMLModel",
     "state": {
      "_dom_classes": [],
      "_model_module": "@jupyter-widgets/controls",
      "_model_module_version": "1.5.0",
      "_model_name": "HTMLModel",
      "_view_count": null,
      "_view_module": "@jupyter-widgets/controls",
      "_view_module_version": "1.5.0",
      "_view_name": "HTMLView",
      "description": "",
      "description_tooltip": null,
      "layout": "IPY_MODEL_f587c97a873545ae8d1545db35e0788e",
      "placeholder": "​",
      "style": "IPY_MODEL_b6cabb4e551c435883f872c6c7220ec7",
      "value": " 5120/? [00:00&lt;00:00, 176184.99it/s]"
     }
    },
    "c86266e412ea47d09a7290b490933f7b": {
     "model_module": "@jupyter-widgets/base",
     "model_module_version": "1.2.0",
     "model_name": "LayoutModel",
     "state": {
      "_model_module": "@jupyter-widgets/base",
      "_model_module_version": "1.2.0",
      "_model_name": "LayoutModel",
      "_view_count": null,
      "_view_module": "@jupyter-widgets/base",
      "_view_module_version": "1.2.0",
      "_view_name": "LayoutView",
      "align_content": null,
      "align_items": null,
      "align_self": null,
      "border": null,
      "bottom": null,
      "display": null,
      "flex": null,
      "flex_flow": null,
      "grid_area": null,
      "grid_auto_columns": null,
      "grid_auto_flow": null,
      "grid_auto_rows": null,
      "grid_column": null,
      "grid_gap": null,
      "grid_row": null,
      "grid_template_areas": null,
      "grid_template_columns": null,
      "grid_template_rows": null,
      "height": null,
      "justify_content": null,
      "justify_items": null,
      "left": null,
      "margin": null,
      "max_height": null,
      "max_width": null,
      "min_height": null,
      "min_width": null,
      "object_fit": null,
      "object_position": null,
      "order": null,
      "overflow": null,
      "overflow_x": null,
      "overflow_y": null,
      "padding": null,
      "right": null,
      "top": null,
      "visibility": null,
      "width": null
     }
    },
    "cd27e891c970413f8cf5d5957fecbe7d": {
     "model_module": "@jupyter-widgets/controls",
     "model_module_version": "1.5.0",
     "model_name": "HTMLModel",
     "state": {
      "_dom_classes": [],
      "_model_module": "@jupyter-widgets/controls",
      "_model_module_version": "1.5.0",
      "_model_name": "HTMLModel",
      "_view_count": null,
      "_view_module": "@jupyter-widgets/controls",
      "_view_module_version": "1.5.0",
      "_view_name": "HTMLView",
      "description": "",
      "description_tooltip": null,
      "layout": "IPY_MODEL_30e91ebbeb8e4a40b44da1ebac4c6b6e",
      "placeholder": "​",
      "style": "IPY_MODEL_a1dcb29752a1495786790222603771e7",
      "value": ""
     }
    },
    "cf157e2b8f67418c971192bf2f612335": {
     "model_module": "@jupyter-widgets/base",
     "model_module_version": "1.2.0",
     "model_name": "LayoutModel",
     "state": {
      "_model_module": "@jupyter-widgets/base",
      "_model_module_version": "1.2.0",
      "_model_name": "LayoutModel",
      "_view_count": null,
      "_view_module": "@jupyter-widgets/base",
      "_view_module_version": "1.2.0",
      "_view_name": "LayoutView",
      "align_content": null,
      "align_items": null,
      "align_self": null,
      "border": null,
      "bottom": null,
      "display": null,
      "flex": null,
      "flex_flow": null,
      "grid_area": null,
      "grid_auto_columns": null,
      "grid_auto_flow": null,
      "grid_auto_rows": null,
      "grid_column": null,
      "grid_gap": null,
      "grid_row": null,
      "grid_template_areas": null,
      "grid_template_columns": null,
      "grid_template_rows": null,
      "height": null,
      "justify_content": null,
      "justify_items": null,
      "left": null,
      "margin": null,
      "max_height": null,
      "max_width": null,
      "min_height": null,
      "min_width": null,
      "object_fit": null,
      "object_position": null,
      "order": null,
      "overflow": null,
      "overflow_x": null,
      "overflow_y": null,
      "padding": null,
      "right": null,
      "top": null,
      "visibility": null,
      "width": null
     }
    },
    "db27109410804be6bb28e4c40407859d": {
     "model_module": "@jupyter-widgets/controls",
     "model_module_version": "1.5.0",
     "model_name": "FloatProgressModel",
     "state": {
      "_dom_classes": [],
      "_model_module": "@jupyter-widgets/controls",
      "_model_module_version": "1.5.0",
      "_model_name": "FloatProgressModel",
      "_view_count": null,
      "_view_module": "@jupyter-widgets/controls",
      "_view_module_version": "1.5.0",
      "_view_name": "ProgressView",
      "bar_style": "success",
      "description": "",
      "description_tooltip": null,
      "layout": "IPY_MODEL_29b2f3cd26c04d3a9fbb42fecfc44b14",
      "max": 1648877,
      "min": 0,
      "orientation": "horizontal",
      "style": "IPY_MODEL_6d4101c98d52401ab8bf3bbe9f449e03",
      "value": 1648877
     }
    },
    "dbe27268716443179e6f95d94572e96f": {
     "model_module": "@jupyter-widgets/controls",
     "model_module_version": "1.5.0",
     "model_name": "HTMLModel",
     "state": {
      "_dom_classes": [],
      "_model_module": "@jupyter-widgets/controls",
      "_model_module_version": "1.5.0",
      "_model_name": "HTMLModel",
      "_view_count": null,
      "_view_module": "@jupyter-widgets/controls",
      "_view_module_version": "1.5.0",
      "_view_name": "HTMLView",
      "description": "",
      "description_tooltip": null,
      "layout": "IPY_MODEL_8f85912d1f134940beea3d5e39c2e001",
      "placeholder": "​",
      "style": "IPY_MODEL_ff1a0254523e4e6aa2135aeb846dec83",
      "value": ""
     }
    },
    "dd73f918957740e1a0dd4f7f739a3bec": {
     "model_module": "@jupyter-widgets/controls",
     "model_module_version": "1.5.0",
     "model_name": "DescriptionStyleModel",
     "state": {
      "_model_module": "@jupyter-widgets/controls",
      "_model_module_version": "1.5.0",
      "_model_name": "DescriptionStyleModel",
      "_view_count": null,
      "_view_module": "@jupyter-widgets/base",
      "_view_module_version": "1.2.0",
      "_view_name": "StyleView",
      "description_width": ""
     }
    },
    "ecc787722c604a0485eca5b847d6ac17": {
     "model_module": "@jupyter-widgets/controls",
     "model_module_version": "1.5.0",
     "model_name": "DescriptionStyleModel",
     "state": {
      "_model_module": "@jupyter-widgets/controls",
      "_model_module_version": "1.5.0",
      "_model_name": "DescriptionStyleModel",
      "_view_count": null,
      "_view_module": "@jupyter-widgets/base",
      "_view_module_version": "1.2.0",
      "_view_name": "StyleView",
      "description_width": ""
     }
    },
    "f587c97a873545ae8d1545db35e0788e": {
     "model_module": "@jupyter-widgets/base",
     "model_module_version": "1.2.0",
     "model_name": "LayoutModel",
     "state": {
      "_model_module": "@jupyter-widgets/base",
      "_model_module_version": "1.2.0",
      "_model_name": "LayoutModel",
      "_view_count": null,
      "_view_module": "@jupyter-widgets/base",
      "_view_module_version": "1.2.0",
      "_view_name": "LayoutView",
      "align_content": null,
      "align_items": null,
      "align_self": null,
      "border": null,
      "bottom": null,
      "display": null,
      "flex": null,
      "flex_flow": null,
      "grid_area": null,
      "grid_auto_columns": null,
      "grid_auto_flow": null,
      "grid_auto_rows": null,
      "grid_column": null,
      "grid_gap": null,
      "grid_row": null,
      "grid_template_areas": null,
      "grid_template_columns": null,
      "grid_template_rows": null,
      "height": null,
      "justify_content": null,
      "justify_items": null,
      "left": null,
      "margin": null,
      "max_height": null,
      "max_width": null,
      "min_height": null,
      "min_width": null,
      "object_fit": null,
      "object_position": null,
      "order": null,
      "overflow": null,
      "overflow_x": null,
      "overflow_y": null,
      "padding": null,
      "right": null,
      "top": null,
      "visibility": null,
      "width": null
     }
    },
    "f9771d16e5904990ab2141078e6531c8": {
     "model_module": "@jupyter-widgets/controls",
     "model_module_version": "1.5.0",
     "model_name": "HTMLModel",
     "state": {
      "_dom_classes": [],
      "_model_module": "@jupyter-widgets/controls",
      "_model_module_version": "1.5.0",
      "_model_name": "HTMLModel",
      "_view_count": null,
      "_view_module": "@jupyter-widgets/controls",
      "_view_module_version": "1.5.0",
      "_view_name": "HTMLView",
      "description": "",
      "description_tooltip": null,
      "layout": "IPY_MODEL_fad5fe4156d449a08585537487c62302",
      "placeholder": "​",
      "style": "IPY_MODEL_dd73f918957740e1a0dd4f7f739a3bec",
      "value": ""
     }
    },
    "fad5fe4156d449a08585537487c62302": {
     "model_module": "@jupyter-widgets/base",
     "model_module_version": "1.2.0",
     "model_name": "LayoutModel",
     "state": {
      "_model_module": "@jupyter-widgets/base",
      "_model_module_version": "1.2.0",
      "_model_name": "LayoutModel",
      "_view_count": null,
      "_view_module": "@jupyter-widgets/base",
      "_view_module_version": "1.2.0",
      "_view_name": "LayoutView",
      "align_content": null,
      "align_items": null,
      "align_self": null,
      "border": null,
      "bottom": null,
      "display": null,
      "flex": null,
      "flex_flow": null,
      "grid_area": null,
      "grid_auto_columns": null,
      "grid_auto_flow": null,
      "grid_auto_rows": null,
      "grid_column": null,
      "grid_gap": null,
      "grid_row": null,
      "grid_template_areas": null,
      "grid_template_columns": null,
      "grid_template_rows": null,
      "height": null,
      "justify_content": null,
      "justify_items": null,
      "left": null,
      "margin": null,
      "max_height": null,
      "max_width": null,
      "min_height": null,
      "min_width": null,
      "object_fit": null,
      "object_position": null,
      "order": null,
      "overflow": null,
      "overflow_x": null,
      "overflow_y": null,
      "padding": null,
      "right": null,
      "top": null,
      "visibility": null,
      "width": null
     }
    },
    "ff1a0254523e4e6aa2135aeb846dec83": {
     "model_module": "@jupyter-widgets/controls",
     "model_module_version": "1.5.0",
     "model_name": "DescriptionStyleModel",
     "state": {
      "_model_module": "@jupyter-widgets/controls",
      "_model_module_version": "1.5.0",
      "_model_name": "DescriptionStyleModel",
      "_view_count": null,
      "_view_module": "@jupyter-widgets/base",
      "_view_module_version": "1.2.0",
      "_view_name": "StyleView",
      "description_width": ""
     }
    }
   }
  }
 },
 "nbformat": 4,
 "nbformat_minor": 1
}
